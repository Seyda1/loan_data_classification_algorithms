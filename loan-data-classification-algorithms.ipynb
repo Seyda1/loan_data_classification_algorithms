{
 "cells": [
  {
   "cell_type": "code",
   "execution_count": 1,
   "id": "viral-courage",
   "metadata": {
    "_cell_guid": "b1076dfc-b9ad-4769-8c92-a6c4dae69d19",
    "_uuid": "8f2839f25d086af736a60e9eeb907d3b93b6e0e5",
    "execution": {
     "iopub.execute_input": "2021-04-30T00:26:09.540576Z",
     "iopub.status.busy": "2021-04-30T00:26:09.539377Z",
     "iopub.status.idle": "2021-04-30T00:26:10.699970Z",
     "shell.execute_reply": "2021-04-30T00:26:10.699257Z"
    },
    "papermill": {
     "duration": 1.20934,
     "end_time": "2021-04-30T00:26:10.700169",
     "exception": false,
     "start_time": "2021-04-30T00:26:09.490829",
     "status": "completed"
    },
    "tags": []
   },
   "outputs": [
    {
     "name": "stdout",
     "output_type": "stream",
     "text": [
      "/kaggle/input/loandata/Loan payments data.csv\n"
     ]
    }
   ],
   "source": [
    "# This Python 3 environment comes with many helpful analytics libraries installed\n",
    "# It is defined by the kaggle/python Docker image: https://github.com/kaggle/docker-python\n",
    "# For example, here's several helpful packages to load\n",
    "\n",
    "import numpy as np # linear algebra\n",
    "import pandas as pd # data processing, CSV file I/O (e.g. pd.read_csv)\n",
    "\n",
    "import seaborn as sns\n",
    "import matplotlib.pyplot as plt\n",
    "import datetime\n",
    "from sklearn import preprocessing\n",
    "# Input data files are available in the read-only \"../input/\" directory\n",
    "# For example, running this (by clicking run or pressing Shift+Enter) will list all files under the input directory\n",
    "\n",
    "import os\n",
    "for dirname, _, filenames in os.walk('/kaggle/input'):\n",
    "    for filename in filenames:\n",
    "        print(os.path.join(dirname, filename))\n",
    "\n",
    "# You can write up to 20GB to the current directory (/kaggle/working/) that gets preserved as output when you create a version using \"Save & Run All\" \n",
    "# You can also write temporary files to /kaggle/temp/, but they won't be saved outside of the current session"
   ]
  },
  {
   "cell_type": "markdown",
   "id": "portable-robin",
   "metadata": {
    "papermill": {
     "duration": 0.043103,
     "end_time": "2021-04-30T00:26:10.787942",
     "exception": false,
     "start_time": "2021-04-30T00:26:10.744839",
     "status": "completed"
    },
    "tags": []
   },
   "source": [
    "## Describing Data"
   ]
  },
  {
   "cell_type": "markdown",
   "id": "structural-despite",
   "metadata": {
    "papermill": {
     "duration": 0.048349,
     "end_time": "2021-04-30T00:26:10.879554",
     "exception": false,
     "start_time": "2021-04-30T00:26:10.831205",
     "status": "completed"
    },
    "tags": []
   },
   "source": [
    "This data set includes customers who have paid off their loans, who have been past due and put into collection without paying back their loan and interests, and who have paid off only after they were put in collection. The financial product is a bullet loan that customers should pay off all of their loan debt in just one time by the end of the term, instead of an installment schedule. Of course, they could pay off earlier than their pay schedule."
   ]
  },
  {
   "cell_type": "markdown",
   "id": "bright-rebel",
   "metadata": {
    "papermill": {
     "duration": 0.042806,
     "end_time": "2021-04-30T00:26:10.966859",
     "exception": false,
     "start_time": "2021-04-30T00:26:10.924053",
     "status": "completed"
    },
    "tags": []
   },
   "source": [
    "* Loan_id: A unique loan number assigned to each loan customers\n",
    "\n",
    "* Loan_status: Whether a loan is paid off, in collection, new customer yet to pay off, or paid off after the collection efforts\n",
    " \n",
    "* Principal: Basic principal loan amount at the origination\n",
    " \n",
    "* terms: Can be weekly (7 days), biweekly, and monthly payoff schedule\n",
    " \n",
    "* Effective_date: When the loan got originated and took effects\n",
    "\n",
    "* Due_date: Since it’s one-time payoff schedule, each loan has one single due date\n",
    "\n",
    "* Paidoff_time: The actual time a customer pays off the loan\n",
    "\n",
    "* Pastdue_days: How many days a loan has been past due\n",
    "\n",
    "* Age, education, gender A customer’s basic demographic information"
   ]
  },
  {
   "cell_type": "markdown",
   "id": "sitting-jerusalem",
   "metadata": {
    "papermill": {
     "duration": 0.042796,
     "end_time": "2021-04-30T00:26:11.053343",
     "exception": false,
     "start_time": "2021-04-30T00:26:11.010547",
     "status": "completed"
    },
    "tags": []
   },
   "source": [
    "## Load and Check Data"
   ]
  },
  {
   "cell_type": "code",
   "execution_count": 2,
   "id": "occupational-colombia",
   "metadata": {
    "execution": {
     "iopub.execute_input": "2021-04-30T00:26:11.146850Z",
     "iopub.status.busy": "2021-04-30T00:26:11.146013Z",
     "iopub.status.idle": "2021-04-30T00:26:11.164728Z",
     "shell.execute_reply": "2021-04-30T00:26:11.164160Z"
    },
    "papermill": {
     "duration": 0.068071,
     "end_time": "2021-04-30T00:26:11.164872",
     "exception": false,
     "start_time": "2021-04-30T00:26:11.096801",
     "status": "completed"
    },
    "tags": []
   },
   "outputs": [],
   "source": [
    "df=pd.read_csv(\"/kaggle/input/loandata/Loan payments data.csv\")"
   ]
  },
  {
   "cell_type": "code",
   "execution_count": 3,
   "id": "satisfied-lucas",
   "metadata": {
    "execution": {
     "iopub.execute_input": "2021-04-30T00:26:11.268552Z",
     "iopub.status.busy": "2021-04-30T00:26:11.267827Z",
     "iopub.status.idle": "2021-04-30T00:26:11.286754Z",
     "shell.execute_reply": "2021-04-30T00:26:11.287275Z"
    },
    "papermill": {
     "duration": 0.078002,
     "end_time": "2021-04-30T00:26:11.287462",
     "exception": false,
     "start_time": "2021-04-30T00:26:11.209460",
     "status": "completed"
    },
    "tags": []
   },
   "outputs": [
    {
     "data": {
      "text/plain": [
       "<bound method DataFrame.info of          Loan_ID         loan_status  Principal  terms effective_date  \\\n",
       "0    xqd20166231             PAIDOFF       1000     30       9/8/2016   \n",
       "1    xqd20168902             PAIDOFF       1000     30       9/8/2016   \n",
       "2    xqd20160003             PAIDOFF       1000     30       9/8/2016   \n",
       "3    xqd20160004             PAIDOFF       1000     15       9/8/2016   \n",
       "4    xqd20160005             PAIDOFF       1000     30       9/9/2016   \n",
       "..           ...                 ...        ...    ...            ...   \n",
       "495  xqd20160496  COLLECTION_PAIDOFF       1000     30      9/12/2016   \n",
       "496  xqd20160497  COLLECTION_PAIDOFF       1000     15      9/12/2016   \n",
       "497  xqd20160498  COLLECTION_PAIDOFF        800     15      9/12/2016   \n",
       "498  xqd20160499  COLLECTION_PAIDOFF       1000     30      9/12/2016   \n",
       "499  xqd20160500  COLLECTION_PAIDOFF       1000     30      9/12/2016   \n",
       "\n",
       "       due_date     paid_off_time  past_due_days  age             education  \\\n",
       "0     10/7/2016   9/14/2016 19:31            NaN   45  High School or Below   \n",
       "1     10/7/2016    10/7/2016 9:00            NaN   50              Bechalor   \n",
       "2     10/7/2016   9/25/2016 16:58            NaN   33              Bechalor   \n",
       "3     9/22/2016   9/22/2016 20:00            NaN   27               college   \n",
       "4     10/8/2016   9/23/2016 21:36            NaN   28               college   \n",
       "..          ...               ...            ...  ...                   ...   \n",
       "495  10/11/2016  10/14/2016 19:08            3.0   28  High School or Below   \n",
       "496   9/26/2016  10/10/2016 20:02           14.0   26  High School or Below   \n",
       "497   9/26/2016   9/29/2016 11:49            3.0   30               college   \n",
       "498  11/10/2016  11/11/2016 22:40            1.0   38               college   \n",
       "499  10/11/2016  10/19/2016 11:58            8.0   28  High School or Below   \n",
       "\n",
       "     Gender  \n",
       "0      male  \n",
       "1    female  \n",
       "2    female  \n",
       "3      male  \n",
       "4    female  \n",
       "..      ...  \n",
       "495    male  \n",
       "496    male  \n",
       "497    male  \n",
       "498  female  \n",
       "499    male  \n",
       "\n",
       "[500 rows x 11 columns]>"
      ]
     },
     "execution_count": 3,
     "metadata": {},
     "output_type": "execute_result"
    }
   ],
   "source": [
    "df.info"
   ]
  },
  {
   "cell_type": "code",
   "execution_count": 4,
   "id": "norman-consistency",
   "metadata": {
    "execution": {
     "iopub.execute_input": "2021-04-30T00:26:11.378175Z",
     "iopub.status.busy": "2021-04-30T00:26:11.377569Z",
     "iopub.status.idle": "2021-04-30T00:26:11.382215Z",
     "shell.execute_reply": "2021-04-30T00:26:11.382742Z"
    },
    "papermill": {
     "duration": 0.051553,
     "end_time": "2021-04-30T00:26:11.382906",
     "exception": false,
     "start_time": "2021-04-30T00:26:11.331353",
     "status": "completed"
    },
    "tags": []
   },
   "outputs": [
    {
     "data": {
      "text/plain": [
       "(500, 11)"
      ]
     },
     "execution_count": 4,
     "metadata": {},
     "output_type": "execute_result"
    }
   ],
   "source": [
    "df.shape"
   ]
  },
  {
   "cell_type": "code",
   "execution_count": 5,
   "id": "upset-crystal",
   "metadata": {
    "execution": {
     "iopub.execute_input": "2021-04-30T00:26:11.474841Z",
     "iopub.status.busy": "2021-04-30T00:26:11.474214Z",
     "iopub.status.idle": "2021-04-30T00:26:11.502080Z",
     "shell.execute_reply": "2021-04-30T00:26:11.501471Z"
    },
    "papermill": {
     "duration": 0.075115,
     "end_time": "2021-04-30T00:26:11.502225",
     "exception": false,
     "start_time": "2021-04-30T00:26:11.427110",
     "status": "completed"
    },
    "tags": []
   },
   "outputs": [
    {
     "data": {
      "text/html": [
       "<div>\n",
       "<style scoped>\n",
       "    .dataframe tbody tr th:only-of-type {\n",
       "        vertical-align: middle;\n",
       "    }\n",
       "\n",
       "    .dataframe tbody tr th {\n",
       "        vertical-align: top;\n",
       "    }\n",
       "\n",
       "    .dataframe thead th {\n",
       "        text-align: right;\n",
       "    }\n",
       "</style>\n",
       "<table border=\"1\" class=\"dataframe\">\n",
       "  <thead>\n",
       "    <tr style=\"text-align: right;\">\n",
       "      <th></th>\n",
       "      <th>Principal</th>\n",
       "      <th>terms</th>\n",
       "      <th>past_due_days</th>\n",
       "      <th>age</th>\n",
       "    </tr>\n",
       "  </thead>\n",
       "  <tbody>\n",
       "    <tr>\n",
       "      <th>count</th>\n",
       "      <td>500.000000</td>\n",
       "      <td>500.000000</td>\n",
       "      <td>200.00000</td>\n",
       "      <td>500.000000</td>\n",
       "    </tr>\n",
       "    <tr>\n",
       "      <th>mean</th>\n",
       "      <td>943.200000</td>\n",
       "      <td>22.824000</td>\n",
       "      <td>36.01000</td>\n",
       "      <td>31.116000</td>\n",
       "    </tr>\n",
       "    <tr>\n",
       "      <th>std</th>\n",
       "      <td>115.240274</td>\n",
       "      <td>8.000064</td>\n",
       "      <td>29.38088</td>\n",
       "      <td>6.084784</td>\n",
       "    </tr>\n",
       "    <tr>\n",
       "      <th>min</th>\n",
       "      <td>300.000000</td>\n",
       "      <td>7.000000</td>\n",
       "      <td>1.00000</td>\n",
       "      <td>18.000000</td>\n",
       "    </tr>\n",
       "    <tr>\n",
       "      <th>25%</th>\n",
       "      <td>1000.000000</td>\n",
       "      <td>15.000000</td>\n",
       "      <td>3.00000</td>\n",
       "      <td>27.000000</td>\n",
       "    </tr>\n",
       "    <tr>\n",
       "      <th>50%</th>\n",
       "      <td>1000.000000</td>\n",
       "      <td>30.000000</td>\n",
       "      <td>37.00000</td>\n",
       "      <td>30.000000</td>\n",
       "    </tr>\n",
       "    <tr>\n",
       "      <th>75%</th>\n",
       "      <td>1000.000000</td>\n",
       "      <td>30.000000</td>\n",
       "      <td>60.00000</td>\n",
       "      <td>35.000000</td>\n",
       "    </tr>\n",
       "    <tr>\n",
       "      <th>max</th>\n",
       "      <td>1000.000000</td>\n",
       "      <td>30.000000</td>\n",
       "      <td>76.00000</td>\n",
       "      <td>51.000000</td>\n",
       "    </tr>\n",
       "  </tbody>\n",
       "</table>\n",
       "</div>"
      ],
      "text/plain": [
       "         Principal       terms  past_due_days         age\n",
       "count   500.000000  500.000000      200.00000  500.000000\n",
       "mean    943.200000   22.824000       36.01000   31.116000\n",
       "std     115.240274    8.000064       29.38088    6.084784\n",
       "min     300.000000    7.000000        1.00000   18.000000\n",
       "25%    1000.000000   15.000000        3.00000   27.000000\n",
       "50%    1000.000000   30.000000       37.00000   30.000000\n",
       "75%    1000.000000   30.000000       60.00000   35.000000\n",
       "max    1000.000000   30.000000       76.00000   51.000000"
      ]
     },
     "execution_count": 5,
     "metadata": {},
     "output_type": "execute_result"
    }
   ],
   "source": [
    "df.describe()"
   ]
  },
  {
   "cell_type": "code",
   "execution_count": 6,
   "id": "pharmaceutical-vegetarian",
   "metadata": {
    "execution": {
     "iopub.execute_input": "2021-04-30T00:26:11.607882Z",
     "iopub.status.busy": "2021-04-30T00:26:11.607225Z",
     "iopub.status.idle": "2021-04-30T00:26:11.610240Z",
     "shell.execute_reply": "2021-04-30T00:26:11.610841Z"
    },
    "papermill": {
     "duration": 0.06355,
     "end_time": "2021-04-30T00:26:11.611017",
     "exception": false,
     "start_time": "2021-04-30T00:26:11.547467",
     "status": "completed"
    },
    "tags": []
   },
   "outputs": [
    {
     "data": {
      "text/html": [
       "<div>\n",
       "<style scoped>\n",
       "    .dataframe tbody tr th:only-of-type {\n",
       "        vertical-align: middle;\n",
       "    }\n",
       "\n",
       "    .dataframe tbody tr th {\n",
       "        vertical-align: top;\n",
       "    }\n",
       "\n",
       "    .dataframe thead th {\n",
       "        text-align: right;\n",
       "    }\n",
       "</style>\n",
       "<table border=\"1\" class=\"dataframe\">\n",
       "  <thead>\n",
       "    <tr style=\"text-align: right;\">\n",
       "      <th></th>\n",
       "      <th>Loan_ID</th>\n",
       "      <th>loan_status</th>\n",
       "      <th>Principal</th>\n",
       "      <th>terms</th>\n",
       "      <th>effective_date</th>\n",
       "      <th>due_date</th>\n",
       "      <th>paid_off_time</th>\n",
       "      <th>past_due_days</th>\n",
       "      <th>age</th>\n",
       "      <th>education</th>\n",
       "      <th>Gender</th>\n",
       "    </tr>\n",
       "  </thead>\n",
       "  <tbody>\n",
       "    <tr>\n",
       "      <th>0</th>\n",
       "      <td>xqd20166231</td>\n",
       "      <td>PAIDOFF</td>\n",
       "      <td>1000</td>\n",
       "      <td>30</td>\n",
       "      <td>9/8/2016</td>\n",
       "      <td>10/7/2016</td>\n",
       "      <td>9/14/2016 19:31</td>\n",
       "      <td>NaN</td>\n",
       "      <td>45</td>\n",
       "      <td>High School or Below</td>\n",
       "      <td>male</td>\n",
       "    </tr>\n",
       "    <tr>\n",
       "      <th>1</th>\n",
       "      <td>xqd20168902</td>\n",
       "      <td>PAIDOFF</td>\n",
       "      <td>1000</td>\n",
       "      <td>30</td>\n",
       "      <td>9/8/2016</td>\n",
       "      <td>10/7/2016</td>\n",
       "      <td>10/7/2016 9:00</td>\n",
       "      <td>NaN</td>\n",
       "      <td>50</td>\n",
       "      <td>Bechalor</td>\n",
       "      <td>female</td>\n",
       "    </tr>\n",
       "    <tr>\n",
       "      <th>2</th>\n",
       "      <td>xqd20160003</td>\n",
       "      <td>PAIDOFF</td>\n",
       "      <td>1000</td>\n",
       "      <td>30</td>\n",
       "      <td>9/8/2016</td>\n",
       "      <td>10/7/2016</td>\n",
       "      <td>9/25/2016 16:58</td>\n",
       "      <td>NaN</td>\n",
       "      <td>33</td>\n",
       "      <td>Bechalor</td>\n",
       "      <td>female</td>\n",
       "    </tr>\n",
       "    <tr>\n",
       "      <th>3</th>\n",
       "      <td>xqd20160004</td>\n",
       "      <td>PAIDOFF</td>\n",
       "      <td>1000</td>\n",
       "      <td>15</td>\n",
       "      <td>9/8/2016</td>\n",
       "      <td>9/22/2016</td>\n",
       "      <td>9/22/2016 20:00</td>\n",
       "      <td>NaN</td>\n",
       "      <td>27</td>\n",
       "      <td>college</td>\n",
       "      <td>male</td>\n",
       "    </tr>\n",
       "    <tr>\n",
       "      <th>4</th>\n",
       "      <td>xqd20160005</td>\n",
       "      <td>PAIDOFF</td>\n",
       "      <td>1000</td>\n",
       "      <td>30</td>\n",
       "      <td>9/9/2016</td>\n",
       "      <td>10/8/2016</td>\n",
       "      <td>9/23/2016 21:36</td>\n",
       "      <td>NaN</td>\n",
       "      <td>28</td>\n",
       "      <td>college</td>\n",
       "      <td>female</td>\n",
       "    </tr>\n",
       "  </tbody>\n",
       "</table>\n",
       "</div>"
      ],
      "text/plain": [
       "       Loan_ID loan_status  Principal  terms effective_date   due_date  \\\n",
       "0  xqd20166231     PAIDOFF       1000     30       9/8/2016  10/7/2016   \n",
       "1  xqd20168902     PAIDOFF       1000     30       9/8/2016  10/7/2016   \n",
       "2  xqd20160003     PAIDOFF       1000     30       9/8/2016  10/7/2016   \n",
       "3  xqd20160004     PAIDOFF       1000     15       9/8/2016  9/22/2016   \n",
       "4  xqd20160005     PAIDOFF       1000     30       9/9/2016  10/8/2016   \n",
       "\n",
       "     paid_off_time  past_due_days  age             education  Gender  \n",
       "0  9/14/2016 19:31            NaN   45  High School or Below    male  \n",
       "1   10/7/2016 9:00            NaN   50              Bechalor  female  \n",
       "2  9/25/2016 16:58            NaN   33              Bechalor  female  \n",
       "3  9/22/2016 20:00            NaN   27               college    male  \n",
       "4  9/23/2016 21:36            NaN   28               college  female  "
      ]
     },
     "execution_count": 6,
     "metadata": {},
     "output_type": "execute_result"
    }
   ],
   "source": [
    "df.head()"
   ]
  },
  {
   "cell_type": "code",
   "execution_count": 7,
   "id": "alien-dublin",
   "metadata": {
    "execution": {
     "iopub.execute_input": "2021-04-30T00:26:11.704657Z",
     "iopub.status.busy": "2021-04-30T00:26:11.703985Z",
     "iopub.status.idle": "2021-04-30T00:26:11.720123Z",
     "shell.execute_reply": "2021-04-30T00:26:11.720607Z"
    },
    "papermill": {
     "duration": 0.064517,
     "end_time": "2021-04-30T00:26:11.720783",
     "exception": false,
     "start_time": "2021-04-30T00:26:11.656266",
     "status": "completed"
    },
    "tags": []
   },
   "outputs": [
    {
     "data": {
      "text/html": [
       "<div>\n",
       "<style scoped>\n",
       "    .dataframe tbody tr th:only-of-type {\n",
       "        vertical-align: middle;\n",
       "    }\n",
       "\n",
       "    .dataframe tbody tr th {\n",
       "        vertical-align: top;\n",
       "    }\n",
       "\n",
       "    .dataframe thead th {\n",
       "        text-align: right;\n",
       "    }\n",
       "</style>\n",
       "<table border=\"1\" class=\"dataframe\">\n",
       "  <thead>\n",
       "    <tr style=\"text-align: right;\">\n",
       "      <th></th>\n",
       "      <th>Loan_ID</th>\n",
       "      <th>loan_status</th>\n",
       "      <th>Principal</th>\n",
       "      <th>terms</th>\n",
       "      <th>effective_date</th>\n",
       "      <th>due_date</th>\n",
       "      <th>paid_off_time</th>\n",
       "      <th>past_due_days</th>\n",
       "      <th>age</th>\n",
       "      <th>education</th>\n",
       "      <th>Gender</th>\n",
       "    </tr>\n",
       "  </thead>\n",
       "  <tbody>\n",
       "    <tr>\n",
       "      <th>495</th>\n",
       "      <td>xqd20160496</td>\n",
       "      <td>COLLECTION_PAIDOFF</td>\n",
       "      <td>1000</td>\n",
       "      <td>30</td>\n",
       "      <td>9/12/2016</td>\n",
       "      <td>10/11/2016</td>\n",
       "      <td>10/14/2016 19:08</td>\n",
       "      <td>3.0</td>\n",
       "      <td>28</td>\n",
       "      <td>High School or Below</td>\n",
       "      <td>male</td>\n",
       "    </tr>\n",
       "    <tr>\n",
       "      <th>496</th>\n",
       "      <td>xqd20160497</td>\n",
       "      <td>COLLECTION_PAIDOFF</td>\n",
       "      <td>1000</td>\n",
       "      <td>15</td>\n",
       "      <td>9/12/2016</td>\n",
       "      <td>9/26/2016</td>\n",
       "      <td>10/10/2016 20:02</td>\n",
       "      <td>14.0</td>\n",
       "      <td>26</td>\n",
       "      <td>High School or Below</td>\n",
       "      <td>male</td>\n",
       "    </tr>\n",
       "    <tr>\n",
       "      <th>497</th>\n",
       "      <td>xqd20160498</td>\n",
       "      <td>COLLECTION_PAIDOFF</td>\n",
       "      <td>800</td>\n",
       "      <td>15</td>\n",
       "      <td>9/12/2016</td>\n",
       "      <td>9/26/2016</td>\n",
       "      <td>9/29/2016 11:49</td>\n",
       "      <td>3.0</td>\n",
       "      <td>30</td>\n",
       "      <td>college</td>\n",
       "      <td>male</td>\n",
       "    </tr>\n",
       "    <tr>\n",
       "      <th>498</th>\n",
       "      <td>xqd20160499</td>\n",
       "      <td>COLLECTION_PAIDOFF</td>\n",
       "      <td>1000</td>\n",
       "      <td>30</td>\n",
       "      <td>9/12/2016</td>\n",
       "      <td>11/10/2016</td>\n",
       "      <td>11/11/2016 22:40</td>\n",
       "      <td>1.0</td>\n",
       "      <td>38</td>\n",
       "      <td>college</td>\n",
       "      <td>female</td>\n",
       "    </tr>\n",
       "    <tr>\n",
       "      <th>499</th>\n",
       "      <td>xqd20160500</td>\n",
       "      <td>COLLECTION_PAIDOFF</td>\n",
       "      <td>1000</td>\n",
       "      <td>30</td>\n",
       "      <td>9/12/2016</td>\n",
       "      <td>10/11/2016</td>\n",
       "      <td>10/19/2016 11:58</td>\n",
       "      <td>8.0</td>\n",
       "      <td>28</td>\n",
       "      <td>High School or Below</td>\n",
       "      <td>male</td>\n",
       "    </tr>\n",
       "  </tbody>\n",
       "</table>\n",
       "</div>"
      ],
      "text/plain": [
       "         Loan_ID         loan_status  Principal  terms effective_date  \\\n",
       "495  xqd20160496  COLLECTION_PAIDOFF       1000     30      9/12/2016   \n",
       "496  xqd20160497  COLLECTION_PAIDOFF       1000     15      9/12/2016   \n",
       "497  xqd20160498  COLLECTION_PAIDOFF        800     15      9/12/2016   \n",
       "498  xqd20160499  COLLECTION_PAIDOFF       1000     30      9/12/2016   \n",
       "499  xqd20160500  COLLECTION_PAIDOFF       1000     30      9/12/2016   \n",
       "\n",
       "       due_date     paid_off_time  past_due_days  age             education  \\\n",
       "495  10/11/2016  10/14/2016 19:08            3.0   28  High School or Below   \n",
       "496   9/26/2016  10/10/2016 20:02           14.0   26  High School or Below   \n",
       "497   9/26/2016   9/29/2016 11:49            3.0   30               college   \n",
       "498  11/10/2016  11/11/2016 22:40            1.0   38               college   \n",
       "499  10/11/2016  10/19/2016 11:58            8.0   28  High School or Below   \n",
       "\n",
       "     Gender  \n",
       "495    male  \n",
       "496    male  \n",
       "497    male  \n",
       "498  female  \n",
       "499    male  "
      ]
     },
     "execution_count": 7,
     "metadata": {},
     "output_type": "execute_result"
    }
   ],
   "source": [
    "df.tail()"
   ]
  },
  {
   "cell_type": "code",
   "execution_count": 8,
   "id": "radio-family",
   "metadata": {
    "execution": {
     "iopub.execute_input": "2021-04-30T00:26:11.822176Z",
     "iopub.status.busy": "2021-04-30T00:26:11.821233Z",
     "iopub.status.idle": "2021-04-30T00:26:11.825135Z",
     "shell.execute_reply": "2021-04-30T00:26:11.824648Z"
    },
    "papermill": {
     "duration": 0.058227,
     "end_time": "2021-04-30T00:26:11.825277",
     "exception": false,
     "start_time": "2021-04-30T00:26:11.767050",
     "status": "completed"
    },
    "tags": []
   },
   "outputs": [
    {
     "data": {
      "text/plain": [
       "Loan_ID             0\n",
       "loan_status         0\n",
       "Principal           0\n",
       "terms               0\n",
       "effective_date      0\n",
       "due_date            0\n",
       "paid_off_time     100\n",
       "past_due_days     300\n",
       "age                 0\n",
       "education           0\n",
       "Gender              0\n",
       "dtype: int64"
      ]
     },
     "execution_count": 8,
     "metadata": {},
     "output_type": "execute_result"
    }
   ],
   "source": [
    "df.isnull().sum()"
   ]
  },
  {
   "cell_type": "markdown",
   "id": "after-spokesman",
   "metadata": {
    "papermill": {
     "duration": 0.046324,
     "end_time": "2021-04-30T00:26:11.920346",
     "exception": false,
     "start_time": "2021-04-30T00:26:11.874022",
     "status": "completed"
    },
    "tags": []
   },
   "source": [
    "* paid_off_time and past_due_days have null values."
   ]
  },
  {
   "cell_type": "code",
   "execution_count": 9,
   "id": "utility-snowboard",
   "metadata": {
    "execution": {
     "iopub.execute_input": "2021-04-30T00:26:12.026301Z",
     "iopub.status.busy": "2021-04-30T00:26:12.022592Z",
     "iopub.status.idle": "2021-04-30T00:26:12.032878Z",
     "shell.execute_reply": "2021-04-30T00:26:12.032339Z"
    },
    "papermill": {
     "duration": 0.064358,
     "end_time": "2021-04-30T00:26:12.033037",
     "exception": false,
     "start_time": "2021-04-30T00:26:11.968679",
     "status": "completed"
    },
    "tags": []
   },
   "outputs": [
    {
     "data": {
      "text/plain": [
       "{'Loan_ID': 500,\n",
       " 'loan_status': 3,\n",
       " 'Principal': 6,\n",
       " 'terms': 3,\n",
       " 'effective_date': 7,\n",
       " 'due_date': 25,\n",
       " 'paid_off_time': 321,\n",
       " 'past_due_days': 34,\n",
       " 'age': 33,\n",
       " 'education': 4,\n",
       " 'Gender': 2}"
      ]
     },
     "execution_count": 9,
     "metadata": {},
     "output_type": "execute_result"
    }
   ],
   "source": [
    "{column:len(df[column].unique()) for column in df.columns}"
   ]
  },
  {
   "cell_type": "code",
   "execution_count": 10,
   "id": "painful-preserve",
   "metadata": {
    "execution": {
     "iopub.execute_input": "2021-04-30T00:26:12.136124Z",
     "iopub.status.busy": "2021-04-30T00:26:12.135104Z",
     "iopub.status.idle": "2021-04-30T00:26:12.139077Z",
     "shell.execute_reply": "2021-04-30T00:26:12.138451Z"
    },
    "papermill": {
     "duration": 0.057836,
     "end_time": "2021-04-30T00:26:12.139246",
     "exception": false,
     "start_time": "2021-04-30T00:26:12.081410",
     "status": "completed"
    },
    "tags": []
   },
   "outputs": [
    {
     "name": "stdout",
     "output_type": "stream",
     "text": [
      "['PAIDOFF' 'COLLECTION' 'COLLECTION_PAIDOFF']\n",
      "['High School or Below' 'Bechalor' 'college' 'Master or Above']\n",
      "['male' 'female']\n"
     ]
    }
   ],
   "source": [
    "list=[\"loan_status\",\"education\",\"Gender\"]\n",
    "for i in list:\n",
    "    print(df[i].unique())"
   ]
  },
  {
   "cell_type": "markdown",
   "id": "ultimate-contemporary",
   "metadata": {
    "papermill": {
     "duration": 0.047885,
     "end_time": "2021-04-30T00:26:12.234902",
     "exception": false,
     "start_time": "2021-04-30T00:26:12.187017",
     "status": "completed"
    },
    "tags": []
   },
   "source": [
    "# Filling Missing Value: paid_off_time"
   ]
  },
  {
   "cell_type": "code",
   "execution_count": 11,
   "id": "eligible-transcription",
   "metadata": {
    "execution": {
     "iopub.execute_input": "2021-04-30T00:26:12.334982Z",
     "iopub.status.busy": "2021-04-30T00:26:12.334261Z",
     "iopub.status.idle": "2021-04-30T00:26:12.593404Z",
     "shell.execute_reply": "2021-04-30T00:26:12.592810Z"
    },
    "papermill": {
     "duration": 0.311309,
     "end_time": "2021-04-30T00:26:12.593641",
     "exception": false,
     "start_time": "2021-04-30T00:26:12.282332",
     "status": "completed"
    },
    "tags": []
   },
   "outputs": [
    {
     "name": "stderr",
     "output_type": "stream",
     "text": [
      "/opt/conda/lib/python3.7/site-packages/seaborn/categorical.py:3714: UserWarning: The `factorplot` function has been renamed to `catplot`. The original name will be removed in a future release. Please update your code. Note that the default `kind` in `factorplot` (`'point'`) has changed `'strip'` in `catplot`.\n",
      "  warnings.warn(msg)\n"
     ]
    },
    {
     "data": {
      "image/png": "[encoded data removed]",
      "text/plain": [
       "<Figure size 360x360 with 1 Axes>"
      ]
     },
     "metadata": {
      "needs_background": "light"
     },
     "output_type": "display_data"
    }
   ],
   "source": [
    "g=sns.factorplot(x=\"loan_status\",y=\"past_due_days\",data=df,kind=\"box\")\n",
    "plt.show()"
   ]
  },
  {
   "cell_type": "code",
   "execution_count": 12,
   "id": "great-detroit",
   "metadata": {
    "execution": {
     "iopub.execute_input": "2021-04-30T00:26:12.700083Z",
     "iopub.status.busy": "2021-04-30T00:26:12.699430Z",
     "iopub.status.idle": "2021-04-30T00:26:12.840541Z",
     "shell.execute_reply": "2021-04-30T00:26:12.841150Z"
    },
    "papermill": {
     "duration": 0.198349,
     "end_time": "2021-04-30T00:26:12.841328",
     "exception": false,
     "start_time": "2021-04-30T00:26:12.642979",
     "status": "completed"
    },
    "tags": []
   },
   "outputs": [
    {
     "name": "stdout",
     "output_type": "stream",
     "text": [
      "['PAIDOFF' 'COLLECTION' 'COLLECTION_PAIDOFF']\n"
     ]
    },
    {
     "name": "stderr",
     "output_type": "stream",
     "text": [
      "/opt/conda/lib/python3.7/site-packages/seaborn/_decorators.py:43: FutureWarning: Pass the following variable as a keyword arg: x. From version 0.12, the only valid positional argument will be `data`, and passing other arguments without an explicit keyword will result in an error or misinterpretation.\n",
      "  FutureWarning\n"
     ]
    },
    {
     "data": {
      "image/png": "[encoded data removed]",
      "text/plain": [
       "<Figure size 360x360 with 1 Axes>"
      ]
     },
     "metadata": {
      "needs_background": "light"
     },
     "output_type": "display_data"
    }
   ],
   "source": [
    "print(df.loan_status.unique())\n",
    "\n",
    "fig = plt.figure(figsize=(5,5))\n",
    "ax = sns.countplot(df.loan_status)\n",
    "ax.set_title(\"Count of Loan Status\")\n",
    "for p in ax.patches:\n",
    "    ax.annotate(str(format(int(p.get_height()), ',d')), (p.get_x(), p.get_height()*1.01))\n",
    "plt.show()"
   ]
  },
  {
   "cell_type": "markdown",
   "id": "defensive-priest",
   "metadata": {
    "papermill": {
     "duration": 0.062951,
     "end_time": "2021-04-30T00:26:12.976600",
     "exception": false,
     "start_time": "2021-04-30T00:26:12.913649",
     "status": "completed"
    },
    "tags": []
   },
   "source": [
    "* Put both of plot together!\n",
    "* There are 300 missing values in past_due_days\n",
    "* Paidoff category have not any past_due_days\n",
    "* The count of paidoff category is 300.\n",
    "* So we can say that there are not missing values in past_due_days actually."
   ]
  },
  {
   "cell_type": "code",
   "execution_count": 13,
   "id": "weighted-avenue",
   "metadata": {
    "execution": {
     "iopub.execute_input": "2021-04-30T00:26:13.084828Z",
     "iopub.status.busy": "2021-04-30T00:26:13.084159Z",
     "iopub.status.idle": "2021-04-30T00:26:13.087423Z",
     "shell.execute_reply": "2021-04-30T00:26:13.086908Z"
    },
    "papermill": {
     "duration": 0.059305,
     "end_time": "2021-04-30T00:26:13.087586",
     "exception": false,
     "start_time": "2021-04-30T00:26:13.028281",
     "status": "completed"
    },
    "tags": []
   },
   "outputs": [],
   "source": [
    "df['past_due_days'] = df['past_due_days'].fillna(0)"
   ]
  },
  {
   "cell_type": "code",
   "execution_count": 14,
   "id": "suitable-dallas",
   "metadata": {
    "execution": {
     "iopub.execute_input": "2021-04-30T00:26:13.224358Z",
     "iopub.status.busy": "2021-04-30T00:26:13.223290Z",
     "iopub.status.idle": "2021-04-30T00:26:13.237528Z",
     "shell.execute_reply": "2021-04-30T00:26:13.238018Z"
    },
    "papermill": {
     "duration": 0.099908,
     "end_time": "2021-04-30T00:26:13.238187",
     "exception": false,
     "start_time": "2021-04-30T00:26:13.138279",
     "status": "completed"
    },
    "tags": []
   },
   "outputs": [
    {
     "data": {
      "text/html": [
       "<div>\n",
       "<style scoped>\n",
       "    .dataframe tbody tr th:only-of-type {\n",
       "        vertical-align: middle;\n",
       "    }\n",
       "\n",
       "    .dataframe tbody tr th {\n",
       "        vertical-align: top;\n",
       "    }\n",
       "\n",
       "    .dataframe thead th {\n",
       "        text-align: right;\n",
       "    }\n",
       "</style>\n",
       "<table border=\"1\" class=\"dataframe\">\n",
       "  <thead>\n",
       "    <tr style=\"text-align: right;\">\n",
       "      <th></th>\n",
       "      <th>Loan_ID</th>\n",
       "      <th>loan_status</th>\n",
       "      <th>Principal</th>\n",
       "      <th>terms</th>\n",
       "      <th>effective_date</th>\n",
       "      <th>due_date</th>\n",
       "      <th>paid_off_time</th>\n",
       "      <th>past_due_days</th>\n",
       "      <th>age</th>\n",
       "      <th>education</th>\n",
       "      <th>Gender</th>\n",
       "    </tr>\n",
       "  </thead>\n",
       "  <tbody>\n",
       "    <tr>\n",
       "      <th>0</th>\n",
       "      <td>xqd20166231</td>\n",
       "      <td>PAIDOFF</td>\n",
       "      <td>1000</td>\n",
       "      <td>30</td>\n",
       "      <td>9/8/2016</td>\n",
       "      <td>10/7/2016</td>\n",
       "      <td>9/14/2016 19:31</td>\n",
       "      <td>0.0</td>\n",
       "      <td>45</td>\n",
       "      <td>High School or Below</td>\n",
       "      <td>male</td>\n",
       "    </tr>\n",
       "    <tr>\n",
       "      <th>1</th>\n",
       "      <td>xqd20168902</td>\n",
       "      <td>PAIDOFF</td>\n",
       "      <td>1000</td>\n",
       "      <td>30</td>\n",
       "      <td>9/8/2016</td>\n",
       "      <td>10/7/2016</td>\n",
       "      <td>10/7/2016 9:00</td>\n",
       "      <td>0.0</td>\n",
       "      <td>50</td>\n",
       "      <td>Bechalor</td>\n",
       "      <td>female</td>\n",
       "    </tr>\n",
       "    <tr>\n",
       "      <th>2</th>\n",
       "      <td>xqd20160003</td>\n",
       "      <td>PAIDOFF</td>\n",
       "      <td>1000</td>\n",
       "      <td>30</td>\n",
       "      <td>9/8/2016</td>\n",
       "      <td>10/7/2016</td>\n",
       "      <td>9/25/2016 16:58</td>\n",
       "      <td>0.0</td>\n",
       "      <td>33</td>\n",
       "      <td>Bechalor</td>\n",
       "      <td>female</td>\n",
       "    </tr>\n",
       "    <tr>\n",
       "      <th>3</th>\n",
       "      <td>xqd20160004</td>\n",
       "      <td>PAIDOFF</td>\n",
       "      <td>1000</td>\n",
       "      <td>15</td>\n",
       "      <td>9/8/2016</td>\n",
       "      <td>9/22/2016</td>\n",
       "      <td>9/22/2016 20:00</td>\n",
       "      <td>0.0</td>\n",
       "      <td>27</td>\n",
       "      <td>college</td>\n",
       "      <td>male</td>\n",
       "    </tr>\n",
       "    <tr>\n",
       "      <th>4</th>\n",
       "      <td>xqd20160005</td>\n",
       "      <td>PAIDOFF</td>\n",
       "      <td>1000</td>\n",
       "      <td>30</td>\n",
       "      <td>9/9/2016</td>\n",
       "      <td>10/8/2016</td>\n",
       "      <td>9/23/2016 21:36</td>\n",
       "      <td>0.0</td>\n",
       "      <td>28</td>\n",
       "      <td>college</td>\n",
       "      <td>female</td>\n",
       "    </tr>\n",
       "  </tbody>\n",
       "</table>\n",
       "</div>"
      ],
      "text/plain": [
       "       Loan_ID loan_status  Principal  terms effective_date   due_date  \\\n",
       "0  xqd20166231     PAIDOFF       1000     30       9/8/2016  10/7/2016   \n",
       "1  xqd20168902     PAIDOFF       1000     30       9/8/2016  10/7/2016   \n",
       "2  xqd20160003     PAIDOFF       1000     30       9/8/2016  10/7/2016   \n",
       "3  xqd20160004     PAIDOFF       1000     15       9/8/2016  9/22/2016   \n",
       "4  xqd20160005     PAIDOFF       1000     30       9/9/2016  10/8/2016   \n",
       "\n",
       "     paid_off_time  past_due_days  age             education  Gender  \n",
       "0  9/14/2016 19:31            0.0   45  High School or Below    male  \n",
       "1   10/7/2016 9:00            0.0   50              Bechalor  female  \n",
       "2  9/25/2016 16:58            0.0   33              Bechalor  female  \n",
       "3  9/22/2016 20:00            0.0   27               college    male  \n",
       "4  9/23/2016 21:36            0.0   28               college  female  "
      ]
     },
     "execution_count": 14,
     "metadata": {},
     "output_type": "execute_result"
    }
   ],
   "source": [
    "df.head()"
   ]
  },
  {
   "cell_type": "code",
   "execution_count": 15,
   "id": "brave-letter",
   "metadata": {
    "execution": {
     "iopub.execute_input": "2021-04-30T00:26:13.385107Z",
     "iopub.status.busy": "2021-04-30T00:26:13.384505Z",
     "iopub.status.idle": "2021-04-30T00:26:13.418959Z",
     "shell.execute_reply": "2021-04-30T00:26:13.418143Z"
    },
    "papermill": {
     "duration": 0.113716,
     "end_time": "2021-04-30T00:26:13.419225",
     "exception": false,
     "start_time": "2021-04-30T00:26:13.305509",
     "status": "completed"
    },
    "tags": []
   },
   "outputs": [
    {
     "data": {
      "text/html": [
       "<div>\n",
       "<style scoped>\n",
       "    .dataframe tbody tr th:only-of-type {\n",
       "        vertical-align: middle;\n",
       "    }\n",
       "\n",
       "    .dataframe tbody tr th {\n",
       "        vertical-align: top;\n",
       "    }\n",
       "\n",
       "    .dataframe thead th {\n",
       "        text-align: right;\n",
       "    }\n",
       "</style>\n",
       "<table border=\"1\" class=\"dataframe\">\n",
       "  <thead>\n",
       "    <tr style=\"text-align: right;\">\n",
       "      <th></th>\n",
       "      <th>Loan_ID</th>\n",
       "      <th>loan_status</th>\n",
       "      <th>Principal</th>\n",
       "      <th>terms</th>\n",
       "      <th>effective_date</th>\n",
       "      <th>due_date</th>\n",
       "      <th>paid_off_time</th>\n",
       "      <th>past_due_days</th>\n",
       "      <th>age</th>\n",
       "      <th>education</th>\n",
       "      <th>Gender</th>\n",
       "    </tr>\n",
       "  </thead>\n",
       "  <tbody>\n",
       "    <tr>\n",
       "      <th>300</th>\n",
       "      <td>xqd20160301</td>\n",
       "      <td>COLLECTION</td>\n",
       "      <td>1000</td>\n",
       "      <td>15</td>\n",
       "      <td>9/9/2016</td>\n",
       "      <td>9/23/2016</td>\n",
       "      <td>NaN</td>\n",
       "      <td>76.0</td>\n",
       "      <td>29</td>\n",
       "      <td>college</td>\n",
       "      <td>male</td>\n",
       "    </tr>\n",
       "    <tr>\n",
       "      <th>301</th>\n",
       "      <td>xqd20160302</td>\n",
       "      <td>COLLECTION</td>\n",
       "      <td>1000</td>\n",
       "      <td>30</td>\n",
       "      <td>9/9/2016</td>\n",
       "      <td>10/8/2016</td>\n",
       "      <td>NaN</td>\n",
       "      <td>61.0</td>\n",
       "      <td>37</td>\n",
       "      <td>High School or Below</td>\n",
       "      <td>male</td>\n",
       "    </tr>\n",
       "    <tr>\n",
       "      <th>302</th>\n",
       "      <td>xqd20160303</td>\n",
       "      <td>COLLECTION</td>\n",
       "      <td>1000</td>\n",
       "      <td>30</td>\n",
       "      <td>9/9/2016</td>\n",
       "      <td>10/8/2016</td>\n",
       "      <td>NaN</td>\n",
       "      <td>61.0</td>\n",
       "      <td>33</td>\n",
       "      <td>High School or Below</td>\n",
       "      <td>male</td>\n",
       "    </tr>\n",
       "    <tr>\n",
       "      <th>303</th>\n",
       "      <td>xqd20160304</td>\n",
       "      <td>COLLECTION</td>\n",
       "      <td>800</td>\n",
       "      <td>15</td>\n",
       "      <td>9/9/2016</td>\n",
       "      <td>9/23/2016</td>\n",
       "      <td>NaN</td>\n",
       "      <td>76.0</td>\n",
       "      <td>27</td>\n",
       "      <td>college</td>\n",
       "      <td>male</td>\n",
       "    </tr>\n",
       "    <tr>\n",
       "      <th>304</th>\n",
       "      <td>xqd20160305</td>\n",
       "      <td>COLLECTION</td>\n",
       "      <td>800</td>\n",
       "      <td>15</td>\n",
       "      <td>9/9/2016</td>\n",
       "      <td>9/23/2016</td>\n",
       "      <td>NaN</td>\n",
       "      <td>76.0</td>\n",
       "      <td>24</td>\n",
       "      <td>Bechalor</td>\n",
       "      <td>male</td>\n",
       "    </tr>\n",
       "    <tr>\n",
       "      <th>305</th>\n",
       "      <td>xqd20160306</td>\n",
       "      <td>COLLECTION</td>\n",
       "      <td>1000</td>\n",
       "      <td>15</td>\n",
       "      <td>9/10/2016</td>\n",
       "      <td>9/24/2016</td>\n",
       "      <td>NaN</td>\n",
       "      <td>75.0</td>\n",
       "      <td>31</td>\n",
       "      <td>High School or Below</td>\n",
       "      <td>female</td>\n",
       "    </tr>\n",
       "    <tr>\n",
       "      <th>306</th>\n",
       "      <td>xqd20160307</td>\n",
       "      <td>COLLECTION</td>\n",
       "      <td>800</td>\n",
       "      <td>15</td>\n",
       "      <td>9/10/2016</td>\n",
       "      <td>10/9/2016</td>\n",
       "      <td>NaN</td>\n",
       "      <td>60.0</td>\n",
       "      <td>28</td>\n",
       "      <td>college</td>\n",
       "      <td>male</td>\n",
       "    </tr>\n",
       "    <tr>\n",
       "      <th>307</th>\n",
       "      <td>xqd20160308</td>\n",
       "      <td>COLLECTION</td>\n",
       "      <td>1000</td>\n",
       "      <td>30</td>\n",
       "      <td>9/10/2016</td>\n",
       "      <td>10/9/2016</td>\n",
       "      <td>NaN</td>\n",
       "      <td>60.0</td>\n",
       "      <td>40</td>\n",
       "      <td>High School or Below</td>\n",
       "      <td>male</td>\n",
       "    </tr>\n",
       "    <tr>\n",
       "      <th>308</th>\n",
       "      <td>xqd20160309</td>\n",
       "      <td>COLLECTION</td>\n",
       "      <td>1000</td>\n",
       "      <td>30</td>\n",
       "      <td>9/10/2016</td>\n",
       "      <td>10/9/2016</td>\n",
       "      <td>NaN</td>\n",
       "      <td>60.0</td>\n",
       "      <td>33</td>\n",
       "      <td>college</td>\n",
       "      <td>male</td>\n",
       "    </tr>\n",
       "    <tr>\n",
       "      <th>309</th>\n",
       "      <td>xqd20160310</td>\n",
       "      <td>COLLECTION</td>\n",
       "      <td>800</td>\n",
       "      <td>15</td>\n",
       "      <td>9/10/2016</td>\n",
       "      <td>9/24/2016</td>\n",
       "      <td>NaN</td>\n",
       "      <td>75.0</td>\n",
       "      <td>41</td>\n",
       "      <td>college</td>\n",
       "      <td>male</td>\n",
       "    </tr>\n",
       "    <tr>\n",
       "      <th>310</th>\n",
       "      <td>xqd20160311</td>\n",
       "      <td>COLLECTION</td>\n",
       "      <td>1000</td>\n",
       "      <td>30</td>\n",
       "      <td>9/10/2016</td>\n",
       "      <td>10/9/2016</td>\n",
       "      <td>NaN</td>\n",
       "      <td>60.0</td>\n",
       "      <td>30</td>\n",
       "      <td>college</td>\n",
       "      <td>male</td>\n",
       "    </tr>\n",
       "    <tr>\n",
       "      <th>311</th>\n",
       "      <td>xqd20160312</td>\n",
       "      <td>COLLECTION</td>\n",
       "      <td>800</td>\n",
       "      <td>15</td>\n",
       "      <td>9/10/2016</td>\n",
       "      <td>9/24/2016</td>\n",
       "      <td>NaN</td>\n",
       "      <td>75.0</td>\n",
       "      <td>26</td>\n",
       "      <td>High School or Below</td>\n",
       "      <td>female</td>\n",
       "    </tr>\n",
       "    <tr>\n",
       "      <th>312</th>\n",
       "      <td>xqd20160313</td>\n",
       "      <td>COLLECTION</td>\n",
       "      <td>1000</td>\n",
       "      <td>30</td>\n",
       "      <td>9/10/2016</td>\n",
       "      <td>10/9/2016</td>\n",
       "      <td>NaN</td>\n",
       "      <td>60.0</td>\n",
       "      <td>27</td>\n",
       "      <td>High School or Below</td>\n",
       "      <td>male</td>\n",
       "    </tr>\n",
       "    <tr>\n",
       "      <th>313</th>\n",
       "      <td>xqd20160314</td>\n",
       "      <td>COLLECTION</td>\n",
       "      <td>1000</td>\n",
       "      <td>30</td>\n",
       "      <td>9/10/2016</td>\n",
       "      <td>10/9/2016</td>\n",
       "      <td>NaN</td>\n",
       "      <td>60.0</td>\n",
       "      <td>20</td>\n",
       "      <td>High School or Below</td>\n",
       "      <td>male</td>\n",
       "    </tr>\n",
       "    <tr>\n",
       "      <th>314</th>\n",
       "      <td>xqd20160315</td>\n",
       "      <td>COLLECTION</td>\n",
       "      <td>1000</td>\n",
       "      <td>30</td>\n",
       "      <td>9/10/2016</td>\n",
       "      <td>10/9/2016</td>\n",
       "      <td>NaN</td>\n",
       "      <td>60.0</td>\n",
       "      <td>24</td>\n",
       "      <td>college</td>\n",
       "      <td>male</td>\n",
       "    </tr>\n",
       "    <tr>\n",
       "      <th>315</th>\n",
       "      <td>xqd20160316</td>\n",
       "      <td>COLLECTION</td>\n",
       "      <td>1000</td>\n",
       "      <td>15</td>\n",
       "      <td>9/10/2016</td>\n",
       "      <td>10/9/2016</td>\n",
       "      <td>NaN</td>\n",
       "      <td>60.0</td>\n",
       "      <td>26</td>\n",
       "      <td>High School or Below</td>\n",
       "      <td>male</td>\n",
       "    </tr>\n",
       "    <tr>\n",
       "      <th>316</th>\n",
       "      <td>xqd20160317</td>\n",
       "      <td>COLLECTION</td>\n",
       "      <td>1000</td>\n",
       "      <td>30</td>\n",
       "      <td>9/10/2016</td>\n",
       "      <td>10/9/2016</td>\n",
       "      <td>NaN</td>\n",
       "      <td>60.0</td>\n",
       "      <td>30</td>\n",
       "      <td>High School or Below</td>\n",
       "      <td>male</td>\n",
       "    </tr>\n",
       "    <tr>\n",
       "      <th>317</th>\n",
       "      <td>xqd20160318</td>\n",
       "      <td>COLLECTION</td>\n",
       "      <td>1000</td>\n",
       "      <td>15</td>\n",
       "      <td>9/10/2016</td>\n",
       "      <td>9/24/2016</td>\n",
       "      <td>NaN</td>\n",
       "      <td>75.0</td>\n",
       "      <td>29</td>\n",
       "      <td>High School or Below</td>\n",
       "      <td>male</td>\n",
       "    </tr>\n",
       "    <tr>\n",
       "      <th>318</th>\n",
       "      <td>xqd20160319</td>\n",
       "      <td>COLLECTION</td>\n",
       "      <td>1000</td>\n",
       "      <td>30</td>\n",
       "      <td>9/10/2016</td>\n",
       "      <td>10/9/2016</td>\n",
       "      <td>NaN</td>\n",
       "      <td>60.0</td>\n",
       "      <td>22</td>\n",
       "      <td>Bechalor</td>\n",
       "      <td>male</td>\n",
       "    </tr>\n",
       "    <tr>\n",
       "      <th>319</th>\n",
       "      <td>xqd20160320</td>\n",
       "      <td>COLLECTION</td>\n",
       "      <td>1000</td>\n",
       "      <td>15</td>\n",
       "      <td>9/10/2016</td>\n",
       "      <td>9/24/2016</td>\n",
       "      <td>NaN</td>\n",
       "      <td>75.0</td>\n",
       "      <td>24</td>\n",
       "      <td>Bechalor</td>\n",
       "      <td>male</td>\n",
       "    </tr>\n",
       "  </tbody>\n",
       "</table>\n",
       "</div>"
      ],
      "text/plain": [
       "         Loan_ID loan_status  Principal  terms effective_date   due_date  \\\n",
       "300  xqd20160301  COLLECTION       1000     15       9/9/2016  9/23/2016   \n",
       "301  xqd20160302  COLLECTION       1000     30       9/9/2016  10/8/2016   \n",
       "302  xqd20160303  COLLECTION       1000     30       9/9/2016  10/8/2016   \n",
       "303  xqd20160304  COLLECTION        800     15       9/9/2016  9/23/2016   \n",
       "304  xqd20160305  COLLECTION        800     15       9/9/2016  9/23/2016   \n",
       "305  xqd20160306  COLLECTION       1000     15      9/10/2016  9/24/2016   \n",
       "306  xqd20160307  COLLECTION        800     15      9/10/2016  10/9/2016   \n",
       "307  xqd20160308  COLLECTION       1000     30      9/10/2016  10/9/2016   \n",
       "308  xqd20160309  COLLECTION       1000     30      9/10/2016  10/9/2016   \n",
       "309  xqd20160310  COLLECTION        800     15      9/10/2016  9/24/2016   \n",
       "310  xqd20160311  COLLECTION       1000     30      9/10/2016  10/9/2016   \n",
       "311  xqd20160312  COLLECTION        800     15      9/10/2016  9/24/2016   \n",
       "312  xqd20160313  COLLECTION       1000     30      9/10/2016  10/9/2016   \n",
       "313  xqd20160314  COLLECTION       1000     30      9/10/2016  10/9/2016   \n",
       "314  xqd20160315  COLLECTION       1000     30      9/10/2016  10/9/2016   \n",
       "315  xqd20160316  COLLECTION       1000     15      9/10/2016  10/9/2016   \n",
       "316  xqd20160317  COLLECTION       1000     30      9/10/2016  10/9/2016   \n",
       "317  xqd20160318  COLLECTION       1000     15      9/10/2016  9/24/2016   \n",
       "318  xqd20160319  COLLECTION       1000     30      9/10/2016  10/9/2016   \n",
       "319  xqd20160320  COLLECTION       1000     15      9/10/2016  9/24/2016   \n",
       "\n",
       "    paid_off_time  past_due_days  age             education  Gender  \n",
       "300           NaN           76.0   29               college    male  \n",
       "301           NaN           61.0   37  High School or Below    male  \n",
       "302           NaN           61.0   33  High School or Below    male  \n",
       "303           NaN           76.0   27               college    male  \n",
       "304           NaN           76.0   24              Bechalor    male  \n",
       "305           NaN           75.0   31  High School or Below  female  \n",
       "306           NaN           60.0   28               college    male  \n",
       "307           NaN           60.0   40  High School or Below    male  \n",
       "308           NaN           60.0   33               college    male  \n",
       "309           NaN           75.0   41               college    male  \n",
       "310           NaN           60.0   30               college    male  \n",
       "311           NaN           75.0   26  High School or Below  female  \n",
       "312           NaN           60.0   27  High School or Below    male  \n",
       "313           NaN           60.0   20  High School or Below    male  \n",
       "314           NaN           60.0   24               college    male  \n",
       "315           NaN           60.0   26  High School or Below    male  \n",
       "316           NaN           60.0   30  High School or Below    male  \n",
       "317           NaN           75.0   29  High School or Below    male  \n",
       "318           NaN           60.0   22              Bechalor    male  \n",
       "319           NaN           75.0   24              Bechalor    male  "
      ]
     },
     "execution_count": 15,
     "metadata": {},
     "output_type": "execute_result"
    }
   ],
   "source": [
    "df[df[\"paid_off_time\"].isnull()].head(20)"
   ]
  },
  {
   "cell_type": "code",
   "execution_count": 16,
   "id": "wound-reader",
   "metadata": {
    "execution": {
     "iopub.execute_input": "2021-04-30T00:26:13.559948Z",
     "iopub.status.busy": "2021-04-30T00:26:13.559276Z",
     "iopub.status.idle": "2021-04-30T00:26:13.563314Z",
     "shell.execute_reply": "2021-04-30T00:26:13.563866Z"
    },
    "papermill": {
     "duration": 0.084468,
     "end_time": "2021-04-30T00:26:13.564040",
     "exception": false,
     "start_time": "2021-04-30T00:26:13.479572",
     "status": "completed"
    },
    "tags": []
   },
   "outputs": [
    {
     "data": {
      "text/html": [
       "<div>\n",
       "<style scoped>\n",
       "    .dataframe tbody tr th:only-of-type {\n",
       "        vertical-align: middle;\n",
       "    }\n",
       "\n",
       "    .dataframe tbody tr th {\n",
       "        vertical-align: top;\n",
       "    }\n",
       "\n",
       "    .dataframe thead th {\n",
       "        text-align: right;\n",
       "    }\n",
       "</style>\n",
       "<table border=\"1\" class=\"dataframe\">\n",
       "  <thead>\n",
       "    <tr style=\"text-align: right;\">\n",
       "      <th></th>\n",
       "      <th>Loan_ID</th>\n",
       "      <th>loan_status</th>\n",
       "      <th>Principal</th>\n",
       "      <th>terms</th>\n",
       "      <th>effective_date</th>\n",
       "      <th>due_date</th>\n",
       "      <th>paid_off_time</th>\n",
       "      <th>past_due_days</th>\n",
       "      <th>age</th>\n",
       "      <th>education</th>\n",
       "      <th>Gender</th>\n",
       "    </tr>\n",
       "  </thead>\n",
       "  <tbody>\n",
       "    <tr>\n",
       "      <th>379</th>\n",
       "      <td>xqd20160380</td>\n",
       "      <td>COLLECTION</td>\n",
       "      <td>1000</td>\n",
       "      <td>30</td>\n",
       "      <td>9/11/2016</td>\n",
       "      <td>10/10/2016</td>\n",
       "      <td>NaN</td>\n",
       "      <td>59.0</td>\n",
       "      <td>32</td>\n",
       "      <td>college</td>\n",
       "      <td>male</td>\n",
       "    </tr>\n",
       "    <tr>\n",
       "      <th>380</th>\n",
       "      <td>xqd20160381</td>\n",
       "      <td>COLLECTION</td>\n",
       "      <td>1000</td>\n",
       "      <td>30</td>\n",
       "      <td>9/11/2016</td>\n",
       "      <td>10/10/2016</td>\n",
       "      <td>NaN</td>\n",
       "      <td>59.0</td>\n",
       "      <td>25</td>\n",
       "      <td>High School or Below</td>\n",
       "      <td>male</td>\n",
       "    </tr>\n",
       "    <tr>\n",
       "      <th>381</th>\n",
       "      <td>xqd20160382</td>\n",
       "      <td>COLLECTION</td>\n",
       "      <td>800</td>\n",
       "      <td>15</td>\n",
       "      <td>9/11/2016</td>\n",
       "      <td>9/25/2016</td>\n",
       "      <td>NaN</td>\n",
       "      <td>74.0</td>\n",
       "      <td>35</td>\n",
       "      <td>High School or Below</td>\n",
       "      <td>male</td>\n",
       "    </tr>\n",
       "    <tr>\n",
       "      <th>382</th>\n",
       "      <td>xqd20175721</td>\n",
       "      <td>COLLECTION</td>\n",
       "      <td>1000</td>\n",
       "      <td>15</td>\n",
       "      <td>9/11/2016</td>\n",
       "      <td>9/25/2016</td>\n",
       "      <td>NaN</td>\n",
       "      <td>74.0</td>\n",
       "      <td>30</td>\n",
       "      <td>Bechalor</td>\n",
       "      <td>male</td>\n",
       "    </tr>\n",
       "    <tr>\n",
       "      <th>383</th>\n",
       "      <td>xqd20160384</td>\n",
       "      <td>COLLECTION</td>\n",
       "      <td>1000</td>\n",
       "      <td>30</td>\n",
       "      <td>9/11/2016</td>\n",
       "      <td>10/10/2016</td>\n",
       "      <td>NaN</td>\n",
       "      <td>59.0</td>\n",
       "      <td>26</td>\n",
       "      <td>High School or Below</td>\n",
       "      <td>male</td>\n",
       "    </tr>\n",
       "    <tr>\n",
       "      <th>384</th>\n",
       "      <td>xqd20160385</td>\n",
       "      <td>COLLECTION</td>\n",
       "      <td>1000</td>\n",
       "      <td>30</td>\n",
       "      <td>9/11/2016</td>\n",
       "      <td>10/10/2016</td>\n",
       "      <td>NaN</td>\n",
       "      <td>59.0</td>\n",
       "      <td>29</td>\n",
       "      <td>High School or Below</td>\n",
       "      <td>male</td>\n",
       "    </tr>\n",
       "    <tr>\n",
       "      <th>385</th>\n",
       "      <td>xqd20160386</td>\n",
       "      <td>COLLECTION</td>\n",
       "      <td>1000</td>\n",
       "      <td>30</td>\n",
       "      <td>9/11/2016</td>\n",
       "      <td>11/9/2016</td>\n",
       "      <td>NaN</td>\n",
       "      <td>29.0</td>\n",
       "      <td>26</td>\n",
       "      <td>High School or Below</td>\n",
       "      <td>male</td>\n",
       "    </tr>\n",
       "    <tr>\n",
       "      <th>386</th>\n",
       "      <td>xqd20160387</td>\n",
       "      <td>COLLECTION</td>\n",
       "      <td>800</td>\n",
       "      <td>15</td>\n",
       "      <td>9/11/2016</td>\n",
       "      <td>9/25/2016</td>\n",
       "      <td>NaN</td>\n",
       "      <td>74.0</td>\n",
       "      <td>46</td>\n",
       "      <td>High School or Below</td>\n",
       "      <td>male</td>\n",
       "    </tr>\n",
       "    <tr>\n",
       "      <th>387</th>\n",
       "      <td>xqd20160388</td>\n",
       "      <td>COLLECTION</td>\n",
       "      <td>1000</td>\n",
       "      <td>30</td>\n",
       "      <td>9/11/2016</td>\n",
       "      <td>10/10/2016</td>\n",
       "      <td>NaN</td>\n",
       "      <td>59.0</td>\n",
       "      <td>36</td>\n",
       "      <td>High School or Below</td>\n",
       "      <td>male</td>\n",
       "    </tr>\n",
       "    <tr>\n",
       "      <th>388</th>\n",
       "      <td>xqd20160389</td>\n",
       "      <td>COLLECTION</td>\n",
       "      <td>1000</td>\n",
       "      <td>15</td>\n",
       "      <td>9/11/2016</td>\n",
       "      <td>9/25/2016</td>\n",
       "      <td>NaN</td>\n",
       "      <td>74.0</td>\n",
       "      <td>38</td>\n",
       "      <td>Bechalor</td>\n",
       "      <td>male</td>\n",
       "    </tr>\n",
       "    <tr>\n",
       "      <th>389</th>\n",
       "      <td>xqd20160390</td>\n",
       "      <td>COLLECTION</td>\n",
       "      <td>1000</td>\n",
       "      <td>15</td>\n",
       "      <td>9/11/2016</td>\n",
       "      <td>10/25/2016</td>\n",
       "      <td>NaN</td>\n",
       "      <td>44.0</td>\n",
       "      <td>32</td>\n",
       "      <td>High School or Below</td>\n",
       "      <td>male</td>\n",
       "    </tr>\n",
       "    <tr>\n",
       "      <th>390</th>\n",
       "      <td>xqd20160391</td>\n",
       "      <td>COLLECTION</td>\n",
       "      <td>1000</td>\n",
       "      <td>15</td>\n",
       "      <td>9/11/2016</td>\n",
       "      <td>9/25/2016</td>\n",
       "      <td>NaN</td>\n",
       "      <td>74.0</td>\n",
       "      <td>30</td>\n",
       "      <td>college</td>\n",
       "      <td>male</td>\n",
       "    </tr>\n",
       "    <tr>\n",
       "      <th>391</th>\n",
       "      <td>xqd20125284</td>\n",
       "      <td>COLLECTION</td>\n",
       "      <td>800</td>\n",
       "      <td>15</td>\n",
       "      <td>9/11/2016</td>\n",
       "      <td>9/25/2016</td>\n",
       "      <td>NaN</td>\n",
       "      <td>74.0</td>\n",
       "      <td>35</td>\n",
       "      <td>High School or Below</td>\n",
       "      <td>male</td>\n",
       "    </tr>\n",
       "    <tr>\n",
       "      <th>392</th>\n",
       "      <td>xqd20160393</td>\n",
       "      <td>COLLECTION</td>\n",
       "      <td>1000</td>\n",
       "      <td>30</td>\n",
       "      <td>9/11/2016</td>\n",
       "      <td>10/10/2016</td>\n",
       "      <td>NaN</td>\n",
       "      <td>59.0</td>\n",
       "      <td>29</td>\n",
       "      <td>college</td>\n",
       "      <td>female</td>\n",
       "    </tr>\n",
       "    <tr>\n",
       "      <th>393</th>\n",
       "      <td>xqd20160394</td>\n",
       "      <td>COLLECTION</td>\n",
       "      <td>1000</td>\n",
       "      <td>30</td>\n",
       "      <td>9/11/2016</td>\n",
       "      <td>11/9/2016</td>\n",
       "      <td>NaN</td>\n",
       "      <td>29.0</td>\n",
       "      <td>26</td>\n",
       "      <td>college</td>\n",
       "      <td>male</td>\n",
       "    </tr>\n",
       "    <tr>\n",
       "      <th>394</th>\n",
       "      <td>xqd20160395</td>\n",
       "      <td>COLLECTION</td>\n",
       "      <td>800</td>\n",
       "      <td>15</td>\n",
       "      <td>9/11/2016</td>\n",
       "      <td>9/25/2016</td>\n",
       "      <td>NaN</td>\n",
       "      <td>74.0</td>\n",
       "      <td>32</td>\n",
       "      <td>High School or Below</td>\n",
       "      <td>male</td>\n",
       "    </tr>\n",
       "    <tr>\n",
       "      <th>395</th>\n",
       "      <td>xqd20160396</td>\n",
       "      <td>COLLECTION</td>\n",
       "      <td>1000</td>\n",
       "      <td>30</td>\n",
       "      <td>9/11/2016</td>\n",
       "      <td>10/10/2016</td>\n",
       "      <td>NaN</td>\n",
       "      <td>59.0</td>\n",
       "      <td>25</td>\n",
       "      <td>High School or Below</td>\n",
       "      <td>male</td>\n",
       "    </tr>\n",
       "    <tr>\n",
       "      <th>396</th>\n",
       "      <td>xqd20160397</td>\n",
       "      <td>COLLECTION</td>\n",
       "      <td>1000</td>\n",
       "      <td>30</td>\n",
       "      <td>9/12/2016</td>\n",
       "      <td>10/11/2016</td>\n",
       "      <td>NaN</td>\n",
       "      <td>58.0</td>\n",
       "      <td>33</td>\n",
       "      <td>High School or Below</td>\n",
       "      <td>male</td>\n",
       "    </tr>\n",
       "    <tr>\n",
       "      <th>397</th>\n",
       "      <td>xqd20160398</td>\n",
       "      <td>COLLECTION</td>\n",
       "      <td>800</td>\n",
       "      <td>15</td>\n",
       "      <td>9/12/2016</td>\n",
       "      <td>9/26/2016</td>\n",
       "      <td>NaN</td>\n",
       "      <td>73.0</td>\n",
       "      <td>39</td>\n",
       "      <td>college</td>\n",
       "      <td>male</td>\n",
       "    </tr>\n",
       "    <tr>\n",
       "      <th>398</th>\n",
       "      <td>xqd20160399</td>\n",
       "      <td>COLLECTION</td>\n",
       "      <td>1000</td>\n",
       "      <td>30</td>\n",
       "      <td>9/12/2016</td>\n",
       "      <td>11/10/2016</td>\n",
       "      <td>NaN</td>\n",
       "      <td>28.0</td>\n",
       "      <td>28</td>\n",
       "      <td>college</td>\n",
       "      <td>male</td>\n",
       "    </tr>\n",
       "    <tr>\n",
       "      <th>399</th>\n",
       "      <td>xqd20160400</td>\n",
       "      <td>COLLECTION</td>\n",
       "      <td>1000</td>\n",
       "      <td>30</td>\n",
       "      <td>9/12/2016</td>\n",
       "      <td>10/11/2016</td>\n",
       "      <td>NaN</td>\n",
       "      <td>58.0</td>\n",
       "      <td>26</td>\n",
       "      <td>college</td>\n",
       "      <td>male</td>\n",
       "    </tr>\n",
       "  </tbody>\n",
       "</table>\n",
       "</div>"
      ],
      "text/plain": [
       "         Loan_ID loan_status  Principal  terms effective_date    due_date  \\\n",
       "379  xqd20160380  COLLECTION       1000     30      9/11/2016  10/10/2016   \n",
       "380  xqd20160381  COLLECTION       1000     30      9/11/2016  10/10/2016   \n",
       "381  xqd20160382  COLLECTION        800     15      9/11/2016   9/25/2016   \n",
       "382  xqd20175721  COLLECTION       1000     15      9/11/2016   9/25/2016   \n",
       "383  xqd20160384  COLLECTION       1000     30      9/11/2016  10/10/2016   \n",
       "384  xqd20160385  COLLECTION       1000     30      9/11/2016  10/10/2016   \n",
       "385  xqd20160386  COLLECTION       1000     30      9/11/2016   11/9/2016   \n",
       "386  xqd20160387  COLLECTION        800     15      9/11/2016   9/25/2016   \n",
       "387  xqd20160388  COLLECTION       1000     30      9/11/2016  10/10/2016   \n",
       "388  xqd20160389  COLLECTION       1000     15      9/11/2016   9/25/2016   \n",
       "389  xqd20160390  COLLECTION       1000     15      9/11/2016  10/25/2016   \n",
       "390  xqd20160391  COLLECTION       1000     15      9/11/2016   9/25/2016   \n",
       "391  xqd20125284  COLLECTION        800     15      9/11/2016   9/25/2016   \n",
       "392  xqd20160393  COLLECTION       1000     30      9/11/2016  10/10/2016   \n",
       "393  xqd20160394  COLLECTION       1000     30      9/11/2016   11/9/2016   \n",
       "394  xqd20160395  COLLECTION        800     15      9/11/2016   9/25/2016   \n",
       "395  xqd20160396  COLLECTION       1000     30      9/11/2016  10/10/2016   \n",
       "396  xqd20160397  COLLECTION       1000     30      9/12/2016  10/11/2016   \n",
       "397  xqd20160398  COLLECTION        800     15      9/12/2016   9/26/2016   \n",
       "398  xqd20160399  COLLECTION       1000     30      9/12/2016  11/10/2016   \n",
       "399  xqd20160400  COLLECTION       1000     30      9/12/2016  10/11/2016   \n",
       "\n",
       "    paid_off_time  past_due_days  age             education  Gender  \n",
       "379           NaN           59.0   32               college    male  \n",
       "380           NaN           59.0   25  High School or Below    male  \n",
       "381           NaN           74.0   35  High School or Below    male  \n",
       "382           NaN           74.0   30              Bechalor    male  \n",
       "383           NaN           59.0   26  High School or Below    male  \n",
       "384           NaN           59.0   29  High School or Below    male  \n",
       "385           NaN           29.0   26  High School or Below    male  \n",
       "386           NaN           74.0   46  High School or Below    male  \n",
       "387           NaN           59.0   36  High School or Below    male  \n",
       "388           NaN           74.0   38              Bechalor    male  \n",
       "389           NaN           44.0   32  High School or Below    male  \n",
       "390           NaN           74.0   30               college    male  \n",
       "391           NaN           74.0   35  High School or Below    male  \n",
       "392           NaN           59.0   29               college  female  \n",
       "393           NaN           29.0   26               college    male  \n",
       "394           NaN           74.0   32  High School or Below    male  \n",
       "395           NaN           59.0   25  High School or Below    male  \n",
       "396           NaN           58.0   33  High School or Below    male  \n",
       "397           NaN           73.0   39               college    male  \n",
       "398           NaN           28.0   28               college    male  \n",
       "399           NaN           58.0   26               college    male  "
      ]
     },
     "execution_count": 16,
     "metadata": {},
     "output_type": "execute_result"
    }
   ],
   "source": [
    "df[df[\"paid_off_time\"].isnull()].tail(21)"
   ]
  },
  {
   "cell_type": "markdown",
   "id": "burning-wiring",
   "metadata": {
    "papermill": {
     "duration": 0.052829,
     "end_time": "2021-04-30T00:26:13.670080",
     "exception": false,
     "start_time": "2021-04-30T00:26:13.617251",
     "status": "completed"
    },
    "tags": []
   },
   "source": [
    "* The paid_off_time has 100 missing values.\n",
    "* The count of COLLECTION is 100.\n",
    "* we can see that from data, missing values of paid_off_time belongs to COLLECTION"
   ]
  },
  {
   "cell_type": "code",
   "execution_count": 17,
   "id": "embedded-trigger",
   "metadata": {
    "execution": {
     "iopub.execute_input": "2021-04-30T00:26:13.781191Z",
     "iopub.status.busy": "2021-04-30T00:26:13.780569Z",
     "iopub.status.idle": "2021-04-30T00:26:13.786552Z",
     "shell.execute_reply": "2021-04-30T00:26:13.787115Z"
    },
    "papermill": {
     "duration": 0.062568,
     "end_time": "2021-04-30T00:26:13.787311",
     "exception": false,
     "start_time": "2021-04-30T00:26:13.724743",
     "status": "completed"
    },
    "tags": []
   },
   "outputs": [],
   "source": [
    "df['paid_off_time'] = df['paid_off_time'].fillna(-1)"
   ]
  },
  {
   "cell_type": "markdown",
   "id": "native-modeling",
   "metadata": {
    "papermill": {
     "duration": 0.059553,
     "end_time": "2021-04-30T00:26:13.903160",
     "exception": false,
     "start_time": "2021-04-30T00:26:13.843607",
     "status": "completed"
    },
    "tags": []
   },
   "source": [
    "# Visualization"
   ]
  },
  {
   "cell_type": "code",
   "execution_count": 18,
   "id": "twelve-balloon",
   "metadata": {
    "execution": {
     "iopub.execute_input": "2021-04-30T00:26:14.015733Z",
     "iopub.status.busy": "2021-04-30T00:26:14.015042Z",
     "iopub.status.idle": "2021-04-30T00:26:17.109070Z",
     "shell.execute_reply": "2021-04-30T00:26:17.108151Z"
    },
    "papermill": {
     "duration": 3.151434,
     "end_time": "2021-04-30T00:26:17.109233",
     "exception": false,
     "start_time": "2021-04-30T00:26:13.957799",
     "status": "completed"
    },
    "tags": []
   },
   "outputs": [
    {
     "data": {
      "text/plain": [
       "<seaborn.axisgrid.PairGrid at 0x7fbc40f74490>"
      ]
     },
     "execution_count": 18,
     "metadata": {},
     "output_type": "execute_result"
    },
    {
     "data": {
      "image/png": "[encoded data removed]",
      "text/plain": [
       "<Figure size 720x720 with 20 Axes>"
      ]
     },
     "metadata": {
      "needs_background": "light"
     },
     "output_type": "display_data"
    }
   ],
   "source": [
    "sns.pairplot(df)"
   ]
  },
  {
   "cell_type": "code",
   "execution_count": 19,
   "id": "forced-fireplace",
   "metadata": {
    "execution": {
     "iopub.execute_input": "2021-04-30T00:26:17.275382Z",
     "iopub.status.busy": "2021-04-30T00:26:17.247536Z",
     "iopub.status.idle": "2021-04-30T00:26:17.675257Z",
     "shell.execute_reply": "2021-04-30T00:26:17.674540Z"
    },
    "papermill": {
     "duration": 0.50983,
     "end_time": "2021-04-30T00:26:17.675433",
     "exception": false,
     "start_time": "2021-04-30T00:26:17.165603",
     "status": "completed"
    },
    "tags": []
   },
   "outputs": [
    {
     "name": "stderr",
     "output_type": "stream",
     "text": [
      "/opt/conda/lib/python3.7/site-packages/seaborn/distributions.py:2557: FutureWarning: `distplot` is a deprecated function and will be removed in a future version. Please adapt your code to use either `displot` (a figure-level function with similar flexibility) or `histplot` (an axes-level function for histograms).\n",
      "  warnings.warn(msg, FutureWarning)\n"
     ]
    },
    {
     "data": {
      "image/png": "[encoded data removed]",
      "text/plain": [
       "<Figure size 1152x360 with 2 Axes>"
      ]
     },
     "metadata": {
      "needs_background": "light"
     },
     "output_type": "display_data"
    }
   ],
   "source": [
    "fig, axs = plt.subplots(1, 2, figsize=(16, 5))\n",
    "sns.boxplot(x='loan_status', y='Principal', data=df, hue='loan_status', ax=axs[0])\n",
    "sns.distplot(df.Principal)\n",
    "plt.show();"
   ]
  },
  {
   "cell_type": "code",
   "execution_count": 20,
   "id": "serial-petroleum",
   "metadata": {
    "execution": {
     "iopub.execute_input": "2021-04-30T00:26:17.803824Z",
     "iopub.status.busy": "2021-04-30T00:26:17.802811Z",
     "iopub.status.idle": "2021-04-30T00:26:17.988993Z",
     "shell.execute_reply": "2021-04-30T00:26:17.988364Z"
    },
    "papermill": {
     "duration": 0.25386,
     "end_time": "2021-04-30T00:26:17.989147",
     "exception": false,
     "start_time": "2021-04-30T00:26:17.735287",
     "status": "completed"
    },
    "tags": []
   },
   "outputs": [
    {
     "data": {
      "image/png": "[encoded data removed]",
      "text/plain": [
       "<Figure size 432x288 with 1 Axes>"
      ]
     },
     "metadata": {
      "needs_background": "light"
     },
     "output_type": "display_data"
    }
   ],
   "source": [
    "#past_due_days-Gender\n",
    "g=sns.barplot(x=\"Gender\",y=\"past_due_days\",data=df)"
   ]
  },
  {
   "cell_type": "code",
   "execution_count": 21,
   "id": "further-backup",
   "metadata": {
    "execution": {
     "iopub.execute_input": "2021-04-30T00:26:18.116428Z",
     "iopub.status.busy": "2021-04-30T00:26:18.114037Z",
     "iopub.status.idle": "2021-04-30T00:26:18.520422Z",
     "shell.execute_reply": "2021-04-30T00:26:18.519738Z"
    },
    "papermill": {
     "duration": 0.472129,
     "end_time": "2021-04-30T00:26:18.520574",
     "exception": false,
     "start_time": "2021-04-30T00:26:18.048445",
     "status": "completed"
    },
    "tags": []
   },
   "outputs": [
    {
     "data": {
      "image/png": "[encoded data removed]",
      "text/plain": [
       "<Figure size 432x288 with 1 Axes>"
      ]
     },
     "metadata": {
      "needs_background": "light"
     },
     "output_type": "display_data"
    }
   ],
   "source": [
    "#past_due_days-education-Gender\n",
    "g=sns.barplot(x=\"education\",y=\"past_due_days\",data=df,hue=\"Gender\")"
   ]
  },
  {
   "cell_type": "code",
   "execution_count": 22,
   "id": "fourth-paragraph",
   "metadata": {
    "execution": {
     "iopub.execute_input": "2021-04-30T00:26:18.651526Z",
     "iopub.status.busy": "2021-04-30T00:26:18.650812Z",
     "iopub.status.idle": "2021-04-30T00:26:18.809430Z",
     "shell.execute_reply": "2021-04-30T00:26:18.809949Z"
    },
    "papermill": {
     "duration": 0.229595,
     "end_time": "2021-04-30T00:26:18.810120",
     "exception": false,
     "start_time": "2021-04-30T00:26:18.580525",
     "status": "completed"
    },
    "tags": []
   },
   "outputs": [
    {
     "data": {
      "image/png": "[encoded data removed]",
      "text/plain": [
       "<Figure size 432x288 with 1 Axes>"
      ]
     },
     "metadata": {
      "needs_background": "light"
     },
     "output_type": "display_data"
    }
   ],
   "source": [
    "#loan_status-past_due_days\n",
    "g=sns.violinplot(x=\"loan_status\",y=\"past_due_days\",data=df)"
   ]
  },
  {
   "cell_type": "markdown",
   "id": "arranged-berkeley",
   "metadata": {
    "papermill": {
     "duration": 0.060888,
     "end_time": "2021-04-30T00:26:18.931419",
     "exception": false,
     "start_time": "2021-04-30T00:26:18.870531",
     "status": "completed"
    },
    "tags": []
   },
   "source": [
    "# Pre-processing/EDA"
   ]
  },
  {
   "cell_type": "code",
   "execution_count": 23,
   "id": "seasonal-insight",
   "metadata": {
    "execution": {
     "iopub.execute_input": "2021-04-30T00:26:19.060292Z",
     "iopub.status.busy": "2021-04-30T00:26:19.059651Z",
     "iopub.status.idle": "2021-04-30T00:26:19.064929Z",
     "shell.execute_reply": "2021-04-30T00:26:19.064242Z"
    },
    "papermill": {
     "duration": 0.072221,
     "end_time": "2021-04-30T00:26:19.065090",
     "exception": false,
     "start_time": "2021-04-30T00:26:18.992869",
     "status": "completed"
    },
    "tags": []
   },
   "outputs": [],
   "source": [
    "#Firstly,drop loan_id. loan_id is unnecessary because it does not effect anything.\n",
    "df.drop([\"Loan_ID\"],inplace=True,axis=1)"
   ]
  },
  {
   "cell_type": "code",
   "execution_count": 24,
   "id": "champion-flavor",
   "metadata": {
    "execution": {
     "iopub.execute_input": "2021-04-30T00:26:19.206448Z",
     "iopub.status.busy": "2021-04-30T00:26:19.205158Z",
     "iopub.status.idle": "2021-04-30T00:26:19.210726Z",
     "shell.execute_reply": "2021-04-30T00:26:19.210079Z"
    },
    "papermill": {
     "duration": 0.084126,
     "end_time": "2021-04-30T00:26:19.210879",
     "exception": false,
     "start_time": "2021-04-30T00:26:19.126753",
     "status": "completed"
    },
    "tags": []
   },
   "outputs": [
    {
     "data": {
      "text/html": [
       "<div>\n",
       "<style scoped>\n",
       "    .dataframe tbody tr th:only-of-type {\n",
       "        vertical-align: middle;\n",
       "    }\n",
       "\n",
       "    .dataframe tbody tr th {\n",
       "        vertical-align: top;\n",
       "    }\n",
       "\n",
       "    .dataframe thead th {\n",
       "        text-align: right;\n",
       "    }\n",
       "</style>\n",
       "<table border=\"1\" class=\"dataframe\">\n",
       "  <thead>\n",
       "    <tr style=\"text-align: right;\">\n",
       "      <th></th>\n",
       "      <th>loan_status</th>\n",
       "      <th>Principal</th>\n",
       "      <th>terms</th>\n",
       "      <th>effective_date</th>\n",
       "      <th>due_date</th>\n",
       "      <th>paid_off_time</th>\n",
       "      <th>past_due_days</th>\n",
       "      <th>age</th>\n",
       "      <th>education</th>\n",
       "      <th>Gender</th>\n",
       "    </tr>\n",
       "  </thead>\n",
       "  <tbody>\n",
       "    <tr>\n",
       "      <th>0</th>\n",
       "      <td>PAIDOFF</td>\n",
       "      <td>1000</td>\n",
       "      <td>30</td>\n",
       "      <td>9/8/2016</td>\n",
       "      <td>10/7/2016</td>\n",
       "      <td>9/14/2016 19:31</td>\n",
       "      <td>0.0</td>\n",
       "      <td>45</td>\n",
       "      <td>High School or Below</td>\n",
       "      <td>male</td>\n",
       "    </tr>\n",
       "    <tr>\n",
       "      <th>1</th>\n",
       "      <td>PAIDOFF</td>\n",
       "      <td>1000</td>\n",
       "      <td>30</td>\n",
       "      <td>9/8/2016</td>\n",
       "      <td>10/7/2016</td>\n",
       "      <td>10/7/2016 9:00</td>\n",
       "      <td>0.0</td>\n",
       "      <td>50</td>\n",
       "      <td>Bechalor</td>\n",
       "      <td>female</td>\n",
       "    </tr>\n",
       "    <tr>\n",
       "      <th>2</th>\n",
       "      <td>PAIDOFF</td>\n",
       "      <td>1000</td>\n",
       "      <td>30</td>\n",
       "      <td>9/8/2016</td>\n",
       "      <td>10/7/2016</td>\n",
       "      <td>9/25/2016 16:58</td>\n",
       "      <td>0.0</td>\n",
       "      <td>33</td>\n",
       "      <td>Bechalor</td>\n",
       "      <td>female</td>\n",
       "    </tr>\n",
       "    <tr>\n",
       "      <th>3</th>\n",
       "      <td>PAIDOFF</td>\n",
       "      <td>1000</td>\n",
       "      <td>15</td>\n",
       "      <td>9/8/2016</td>\n",
       "      <td>9/22/2016</td>\n",
       "      <td>9/22/2016 20:00</td>\n",
       "      <td>0.0</td>\n",
       "      <td>27</td>\n",
       "      <td>college</td>\n",
       "      <td>male</td>\n",
       "    </tr>\n",
       "    <tr>\n",
       "      <th>4</th>\n",
       "      <td>PAIDOFF</td>\n",
       "      <td>1000</td>\n",
       "      <td>30</td>\n",
       "      <td>9/9/2016</td>\n",
       "      <td>10/8/2016</td>\n",
       "      <td>9/23/2016 21:36</td>\n",
       "      <td>0.0</td>\n",
       "      <td>28</td>\n",
       "      <td>college</td>\n",
       "      <td>female</td>\n",
       "    </tr>\n",
       "  </tbody>\n",
       "</table>\n",
       "</div>"
      ],
      "text/plain": [
       "  loan_status  Principal  terms effective_date   due_date    paid_off_time  \\\n",
       "0     PAIDOFF       1000     30       9/8/2016  10/7/2016  9/14/2016 19:31   \n",
       "1     PAIDOFF       1000     30       9/8/2016  10/7/2016   10/7/2016 9:00   \n",
       "2     PAIDOFF       1000     30       9/8/2016  10/7/2016  9/25/2016 16:58   \n",
       "3     PAIDOFF       1000     15       9/8/2016  9/22/2016  9/22/2016 20:00   \n",
       "4     PAIDOFF       1000     30       9/9/2016  10/8/2016  9/23/2016 21:36   \n",
       "\n",
       "   past_due_days  age             education  Gender  \n",
       "0            0.0   45  High School or Below    male  \n",
       "1            0.0   50              Bechalor  female  \n",
       "2            0.0   33              Bechalor  female  \n",
       "3            0.0   27               college    male  \n",
       "4            0.0   28               college  female  "
      ]
     },
     "execution_count": 24,
     "metadata": {},
     "output_type": "execute_result"
    }
   ],
   "source": [
    "df.head()"
   ]
  },
  {
   "cell_type": "code",
   "execution_count": 25,
   "id": "naval-humor",
   "metadata": {
    "execution": {
     "iopub.execute_input": "2021-04-30T00:26:19.348805Z",
     "iopub.status.busy": "2021-04-30T00:26:19.348083Z",
     "iopub.status.idle": "2021-04-30T00:26:19.399806Z",
     "shell.execute_reply": "2021-04-30T00:26:19.399224Z"
    },
    "papermill": {
     "duration": 0.126399,
     "end_time": "2021-04-30T00:26:19.399952",
     "exception": false,
     "start_time": "2021-04-30T00:26:19.273553",
     "status": "completed"
    },
    "tags": []
   },
   "outputs": [],
   "source": [
    "df['effective_date'] = pd.to_datetime(df['effective_date'])\n",
    "df['due_date'] = pd.to_datetime(df['due_date'])\n",
    "df['paid_off_time'] = pd.to_datetime(df['paid_off_time']).dt.date"
   ]
  },
  {
   "cell_type": "code",
   "execution_count": 26,
   "id": "together-closer",
   "metadata": {
    "execution": {
     "iopub.execute_input": "2021-04-30T00:26:19.531604Z",
     "iopub.status.busy": "2021-04-30T00:26:19.530789Z",
     "iopub.status.idle": "2021-04-30T00:26:19.533372Z",
     "shell.execute_reply": "2021-04-30T00:26:19.533851Z"
    },
    "papermill": {
     "duration": 0.072222,
     "end_time": "2021-04-30T00:26:19.534027",
     "exception": false,
     "start_time": "2021-04-30T00:26:19.461805",
     "status": "completed"
    },
    "tags": []
   },
   "outputs": [],
   "source": [
    "df['paid_off_time'] = pd.to_datetime(df['paid_off_time'])"
   ]
  },
  {
   "cell_type": "code",
   "execution_count": 27,
   "id": "designing-accordance",
   "metadata": {
    "execution": {
     "iopub.execute_input": "2021-04-30T00:26:19.674510Z",
     "iopub.status.busy": "2021-04-30T00:26:19.673231Z",
     "iopub.status.idle": "2021-04-30T00:26:19.677153Z",
     "shell.execute_reply": "2021-04-30T00:26:19.677662Z"
    },
    "papermill": {
     "duration": 0.082198,
     "end_time": "2021-04-30T00:26:19.677836",
     "exception": false,
     "start_time": "2021-04-30T00:26:19.595638",
     "status": "completed"
    },
    "tags": []
   },
   "outputs": [
    {
     "data": {
      "text/html": [
       "<div>\n",
       "<style scoped>\n",
       "    .dataframe tbody tr th:only-of-type {\n",
       "        vertical-align: middle;\n",
       "    }\n",
       "\n",
       "    .dataframe tbody tr th {\n",
       "        vertical-align: top;\n",
       "    }\n",
       "\n",
       "    .dataframe thead th {\n",
       "        text-align: right;\n",
       "    }\n",
       "</style>\n",
       "<table border=\"1\" class=\"dataframe\">\n",
       "  <thead>\n",
       "    <tr style=\"text-align: right;\">\n",
       "      <th></th>\n",
       "      <th>loan_status</th>\n",
       "      <th>Principal</th>\n",
       "      <th>terms</th>\n",
       "      <th>effective_date</th>\n",
       "      <th>due_date</th>\n",
       "      <th>paid_off_time</th>\n",
       "      <th>past_due_days</th>\n",
       "      <th>age</th>\n",
       "      <th>education</th>\n",
       "      <th>Gender</th>\n",
       "    </tr>\n",
       "  </thead>\n",
       "  <tbody>\n",
       "    <tr>\n",
       "      <th>0</th>\n",
       "      <td>PAIDOFF</td>\n",
       "      <td>1000</td>\n",
       "      <td>30</td>\n",
       "      <td>2016-09-08</td>\n",
       "      <td>2016-10-07</td>\n",
       "      <td>2016-09-14</td>\n",
       "      <td>0.0</td>\n",
       "      <td>45</td>\n",
       "      <td>High School or Below</td>\n",
       "      <td>male</td>\n",
       "    </tr>\n",
       "    <tr>\n",
       "      <th>1</th>\n",
       "      <td>PAIDOFF</td>\n",
       "      <td>1000</td>\n",
       "      <td>30</td>\n",
       "      <td>2016-09-08</td>\n",
       "      <td>2016-10-07</td>\n",
       "      <td>2016-10-07</td>\n",
       "      <td>0.0</td>\n",
       "      <td>50</td>\n",
       "      <td>Bechalor</td>\n",
       "      <td>female</td>\n",
       "    </tr>\n",
       "    <tr>\n",
       "      <th>2</th>\n",
       "      <td>PAIDOFF</td>\n",
       "      <td>1000</td>\n",
       "      <td>30</td>\n",
       "      <td>2016-09-08</td>\n",
       "      <td>2016-10-07</td>\n",
       "      <td>2016-09-25</td>\n",
       "      <td>0.0</td>\n",
       "      <td>33</td>\n",
       "      <td>Bechalor</td>\n",
       "      <td>female</td>\n",
       "    </tr>\n",
       "    <tr>\n",
       "      <th>3</th>\n",
       "      <td>PAIDOFF</td>\n",
       "      <td>1000</td>\n",
       "      <td>15</td>\n",
       "      <td>2016-09-08</td>\n",
       "      <td>2016-09-22</td>\n",
       "      <td>2016-09-22</td>\n",
       "      <td>0.0</td>\n",
       "      <td>27</td>\n",
       "      <td>college</td>\n",
       "      <td>male</td>\n",
       "    </tr>\n",
       "    <tr>\n",
       "      <th>4</th>\n",
       "      <td>PAIDOFF</td>\n",
       "      <td>1000</td>\n",
       "      <td>30</td>\n",
       "      <td>2016-09-09</td>\n",
       "      <td>2016-10-08</td>\n",
       "      <td>2016-09-23</td>\n",
       "      <td>0.0</td>\n",
       "      <td>28</td>\n",
       "      <td>college</td>\n",
       "      <td>female</td>\n",
       "    </tr>\n",
       "  </tbody>\n",
       "</table>\n",
       "</div>"
      ],
      "text/plain": [
       "  loan_status  Principal  terms effective_date   due_date paid_off_time  \\\n",
       "0     PAIDOFF       1000     30     2016-09-08 2016-10-07    2016-09-14   \n",
       "1     PAIDOFF       1000     30     2016-09-08 2016-10-07    2016-10-07   \n",
       "2     PAIDOFF       1000     30     2016-09-08 2016-10-07    2016-09-25   \n",
       "3     PAIDOFF       1000     15     2016-09-08 2016-09-22    2016-09-22   \n",
       "4     PAIDOFF       1000     30     2016-09-09 2016-10-08    2016-09-23   \n",
       "\n",
       "   past_due_days  age             education  Gender  \n",
       "0            0.0   45  High School or Below    male  \n",
       "1            0.0   50              Bechalor  female  \n",
       "2            0.0   33              Bechalor  female  \n",
       "3            0.0   27               college    male  \n",
       "4            0.0   28               college  female  "
      ]
     },
     "execution_count": 27,
     "metadata": {},
     "output_type": "execute_result"
    }
   ],
   "source": [
    "df.head()"
   ]
  },
  {
   "cell_type": "code",
   "execution_count": 28,
   "id": "immune-checkout",
   "metadata": {
    "execution": {
     "iopub.execute_input": "2021-04-30T00:26:19.819369Z",
     "iopub.status.busy": "2021-04-30T00:26:19.818422Z",
     "iopub.status.idle": "2021-04-30T00:26:19.821949Z",
     "shell.execute_reply": "2021-04-30T00:26:19.822487Z"
    },
    "papermill": {
     "duration": 0.082655,
     "end_time": "2021-04-30T00:26:19.822666",
     "exception": false,
     "start_time": "2021-04-30T00:26:19.740011",
     "status": "completed"
    },
    "tags": []
   },
   "outputs": [
    {
     "name": "stdout",
     "output_type": "stream",
     "text": [
      "<class 'pandas.core.frame.DataFrame'>\n",
      "RangeIndex: 500 entries, 0 to 499\n",
      "Data columns (total 10 columns):\n",
      " #   Column          Non-Null Count  Dtype         \n",
      "---  ------          --------------  -----         \n",
      " 0   loan_status     500 non-null    object        \n",
      " 1   Principal       500 non-null    int64         \n",
      " 2   terms           500 non-null    int64         \n",
      " 3   effective_date  500 non-null    datetime64[ns]\n",
      " 4   due_date        500 non-null    datetime64[ns]\n",
      " 5   paid_off_time   500 non-null    datetime64[ns]\n",
      " 6   past_due_days   500 non-null    float64       \n",
      " 7   age             500 non-null    int64         \n",
      " 8   education       500 non-null    object        \n",
      " 9   Gender          500 non-null    object        \n",
      "dtypes: datetime64[ns](3), float64(1), int64(3), object(3)\n",
      "memory usage: 39.2+ KB\n"
     ]
    }
   ],
   "source": [
    "df.info()"
   ]
  },
  {
   "cell_type": "code",
   "execution_count": 29,
   "id": "focal-retro",
   "metadata": {
    "execution": {
     "iopub.execute_input": "2021-04-30T00:26:19.958859Z",
     "iopub.status.busy": "2021-04-30T00:26:19.955315Z",
     "iopub.status.idle": "2021-04-30T00:26:19.961942Z",
     "shell.execute_reply": "2021-04-30T00:26:19.961336Z"
    },
    "papermill": {
     "duration": 0.075982,
     "end_time": "2021-04-30T00:26:19.962122",
     "exception": false,
     "start_time": "2021-04-30T00:26:19.886140",
     "status": "completed"
    },
    "tags": []
   },
   "outputs": [],
   "source": [
    "df.drop([\"effective_date\"],inplace=True,axis=1)\n",
    "df.drop([\"due_date\"],inplace=True,axis=1)\n",
    "df.drop([\"paid_off_time\"],inplace=True,axis=1)\n"
   ]
  },
  {
   "cell_type": "code",
   "execution_count": 30,
   "id": "moral-redhead",
   "metadata": {
    "execution": {
     "iopub.execute_input": "2021-04-30T00:26:20.096051Z",
     "iopub.status.busy": "2021-04-30T00:26:20.095142Z",
     "iopub.status.idle": "2021-04-30T00:26:20.098095Z",
     "shell.execute_reply": "2021-04-30T00:26:20.097549Z"
    },
    "papermill": {
     "duration": 0.072788,
     "end_time": "2021-04-30T00:26:20.098235",
     "exception": false,
     "start_time": "2021-04-30T00:26:20.025447",
     "status": "completed"
    },
    "tags": []
   },
   "outputs": [],
   "source": [
    "#To use models we should convert categorical values.\n",
    "#I will seperate numerical and categorical variable from each other\n",
    "categorical=[]\n",
    "numerical=[]\n",
    "for i,c in enumerate(df.dtypes):\n",
    "    if c == object:\n",
    "        categorical.append(df.iloc[:, i])\n",
    "    else :\n",
    "        numerical.append(df.iloc[:, i])\n"
   ]
  },
  {
   "cell_type": "code",
   "execution_count": 31,
   "id": "swedish-desktop",
   "metadata": {
    "execution": {
     "iopub.execute_input": "2021-04-30T00:26:20.249640Z",
     "iopub.status.busy": "2021-04-30T00:26:20.244452Z",
     "iopub.status.idle": "2021-04-30T00:26:20.304805Z",
     "shell.execute_reply": "2021-04-30T00:26:20.305285Z"
    },
    "papermill": {
     "duration": 0.139934,
     "end_time": "2021-04-30T00:26:20.305491",
     "exception": false,
     "start_time": "2021-04-30T00:26:20.165557",
     "status": "completed"
    },
    "tags": []
   },
   "outputs": [],
   "source": [
    "categorical = pd.DataFrame(categorical).transpose()\n",
    "numerical = pd.DataFrame(numerical).transpose()"
   ]
  },
  {
   "cell_type": "code",
   "execution_count": 32,
   "id": "interesting-agreement",
   "metadata": {
    "execution": {
     "iopub.execute_input": "2021-04-30T00:26:20.443436Z",
     "iopub.status.busy": "2021-04-30T00:26:20.442400Z",
     "iopub.status.idle": "2021-04-30T00:26:20.447073Z",
     "shell.execute_reply": "2021-04-30T00:26:20.446448Z"
    },
    "papermill": {
     "duration": 0.078199,
     "end_time": "2021-04-30T00:26:20.447284",
     "exception": false,
     "start_time": "2021-04-30T00:26:20.369085",
     "status": "completed"
    },
    "tags": []
   },
   "outputs": [
    {
     "data": {
      "text/html": [
       "<div>\n",
       "<style scoped>\n",
       "    .dataframe tbody tr th:only-of-type {\n",
       "        vertical-align: middle;\n",
       "    }\n",
       "\n",
       "    .dataframe tbody tr th {\n",
       "        vertical-align: top;\n",
       "    }\n",
       "\n",
       "    .dataframe thead th {\n",
       "        text-align: right;\n",
       "    }\n",
       "</style>\n",
       "<table border=\"1\" class=\"dataframe\">\n",
       "  <thead>\n",
       "    <tr style=\"text-align: right;\">\n",
       "      <th></th>\n",
       "      <th>loan_status</th>\n",
       "      <th>education</th>\n",
       "      <th>Gender</th>\n",
       "    </tr>\n",
       "  </thead>\n",
       "  <tbody>\n",
       "    <tr>\n",
       "      <th>0</th>\n",
       "      <td>PAIDOFF</td>\n",
       "      <td>High School or Below</td>\n",
       "      <td>male</td>\n",
       "    </tr>\n",
       "    <tr>\n",
       "      <th>1</th>\n",
       "      <td>PAIDOFF</td>\n",
       "      <td>Bechalor</td>\n",
       "      <td>female</td>\n",
       "    </tr>\n",
       "    <tr>\n",
       "      <th>2</th>\n",
       "      <td>PAIDOFF</td>\n",
       "      <td>Bechalor</td>\n",
       "      <td>female</td>\n",
       "    </tr>\n",
       "    <tr>\n",
       "      <th>3</th>\n",
       "      <td>PAIDOFF</td>\n",
       "      <td>college</td>\n",
       "      <td>male</td>\n",
       "    </tr>\n",
       "    <tr>\n",
       "      <th>4</th>\n",
       "      <td>PAIDOFF</td>\n",
       "      <td>college</td>\n",
       "      <td>female</td>\n",
       "    </tr>\n",
       "  </tbody>\n",
       "</table>\n",
       "</div>"
      ],
      "text/plain": [
       "  loan_status             education  Gender\n",
       "0     PAIDOFF  High School or Below    male\n",
       "1     PAIDOFF              Bechalor  female\n",
       "2     PAIDOFF              Bechalor  female\n",
       "3     PAIDOFF               college    male\n",
       "4     PAIDOFF               college  female"
      ]
     },
     "execution_count": 32,
     "metadata": {},
     "output_type": "execute_result"
    }
   ],
   "source": [
    "categorical.head()"
   ]
  },
  {
   "cell_type": "code",
   "execution_count": 33,
   "id": "blank-turner",
   "metadata": {
    "execution": {
     "iopub.execute_input": "2021-04-30T00:26:20.586321Z",
     "iopub.status.busy": "2021-04-30T00:26:20.585226Z",
     "iopub.status.idle": "2021-04-30T00:26:20.589683Z",
     "shell.execute_reply": "2021-04-30T00:26:20.589041Z"
    },
    "papermill": {
     "duration": 0.078632,
     "end_time": "2021-04-30T00:26:20.589827",
     "exception": false,
     "start_time": "2021-04-30T00:26:20.511195",
     "status": "completed"
    },
    "tags": []
   },
   "outputs": [
    {
     "data": {
      "text/html": [
       "<div>\n",
       "<style scoped>\n",
       "    .dataframe tbody tr th:only-of-type {\n",
       "        vertical-align: middle;\n",
       "    }\n",
       "\n",
       "    .dataframe tbody tr th {\n",
       "        vertical-align: top;\n",
       "    }\n",
       "\n",
       "    .dataframe thead th {\n",
       "        text-align: right;\n",
       "    }\n",
       "</style>\n",
       "<table border=\"1\" class=\"dataframe\">\n",
       "  <thead>\n",
       "    <tr style=\"text-align: right;\">\n",
       "      <th></th>\n",
       "      <th>loan_status</th>\n",
       "      <th>education</th>\n",
       "      <th>Gender</th>\n",
       "    </tr>\n",
       "  </thead>\n",
       "  <tbody>\n",
       "    <tr>\n",
       "      <th>0</th>\n",
       "      <td>PAIDOFF</td>\n",
       "      <td>High School or Below</td>\n",
       "      <td>male</td>\n",
       "    </tr>\n",
       "    <tr>\n",
       "      <th>1</th>\n",
       "      <td>PAIDOFF</td>\n",
       "      <td>Bechalor</td>\n",
       "      <td>female</td>\n",
       "    </tr>\n",
       "    <tr>\n",
       "      <th>2</th>\n",
       "      <td>PAIDOFF</td>\n",
       "      <td>Bechalor</td>\n",
       "      <td>female</td>\n",
       "    </tr>\n",
       "    <tr>\n",
       "      <th>3</th>\n",
       "      <td>PAIDOFF</td>\n",
       "      <td>college</td>\n",
       "      <td>male</td>\n",
       "    </tr>\n",
       "    <tr>\n",
       "      <th>4</th>\n",
       "      <td>PAIDOFF</td>\n",
       "      <td>college</td>\n",
       "      <td>female</td>\n",
       "    </tr>\n",
       "  </tbody>\n",
       "</table>\n",
       "</div>"
      ],
      "text/plain": [
       "  loan_status             education  Gender\n",
       "0     PAIDOFF  High School or Below    male\n",
       "1     PAIDOFF              Bechalor  female\n",
       "2     PAIDOFF              Bechalor  female\n",
       "3     PAIDOFF               college    male\n",
       "4     PAIDOFF               college  female"
      ]
     },
     "execution_count": 33,
     "metadata": {},
     "output_type": "execute_result"
    }
   ],
   "source": [
    "from sklearn.preprocessing import LabelEncoder  \n",
    "le = LabelEncoder()\n",
    "categorical.head()"
   ]
  },
  {
   "cell_type": "code",
   "execution_count": 34,
   "id": "renewable-diamond",
   "metadata": {
    "execution": {
     "iopub.execute_input": "2021-04-30T00:26:20.727125Z",
     "iopub.status.busy": "2021-04-30T00:26:20.726468Z",
     "iopub.status.idle": "2021-04-30T00:26:20.729678Z",
     "shell.execute_reply": "2021-04-30T00:26:20.729130Z"
    },
    "papermill": {
     "duration": 0.075492,
     "end_time": "2021-04-30T00:26:20.729862",
     "exception": false,
     "start_time": "2021-04-30T00:26:20.654370",
     "status": "completed"
    },
    "tags": []
   },
   "outputs": [],
   "source": [
    "target_values = {'PAIDOFF': 0 , 'COLLECTION' : 1,'COLLECTION_PAIDOFF' : 2}\n",
    "\n",
    "target = categorical['loan_status']\n",
    "categorical.drop('loan_status', axis=1, inplace=True)\n",
    "\n",
    "target = target.map(target_values)"
   ]
  },
  {
   "cell_type": "code",
   "execution_count": 35,
   "id": "religious-folder",
   "metadata": {
    "execution": {
     "iopub.execute_input": "2021-04-30T00:26:20.870999Z",
     "iopub.status.busy": "2021-04-30T00:26:20.870234Z",
     "iopub.status.idle": "2021-04-30T00:26:20.872548Z",
     "shell.execute_reply": "2021-04-30T00:26:20.872992Z"
    },
    "papermill": {
     "duration": 0.078656,
     "end_time": "2021-04-30T00:26:20.873170",
     "exception": false,
     "start_time": "2021-04-30T00:26:20.794514",
     "status": "completed"
    },
    "tags": []
   },
   "outputs": [],
   "source": [
    "for i in categorical:\n",
    "    categorical[i] = le.fit_transform(categorical[i])\n"
   ]
  },
  {
   "cell_type": "code",
   "execution_count": 36,
   "id": "grand-framework",
   "metadata": {
    "execution": {
     "iopub.execute_input": "2021-04-30T00:26:21.013078Z",
     "iopub.status.busy": "2021-04-30T00:26:21.012181Z",
     "iopub.status.idle": "2021-04-30T00:26:21.015970Z",
     "shell.execute_reply": "2021-04-30T00:26:21.016465Z"
    },
    "papermill": {
     "duration": 0.077656,
     "end_time": "2021-04-30T00:26:21.016637",
     "exception": false,
     "start_time": "2021-04-30T00:26:20.938981",
     "status": "completed"
    },
    "tags": []
   },
   "outputs": [
    {
     "data": {
      "text/plain": [
       "0    0\n",
       "1    0\n",
       "2    0\n",
       "3    0\n",
       "4    0\n",
       "Name: loan_status, dtype: int64"
      ]
     },
     "execution_count": 36,
     "metadata": {},
     "output_type": "execute_result"
    }
   ],
   "source": [
    "target.head()"
   ]
  },
  {
   "cell_type": "code",
   "execution_count": 37,
   "id": "divided-ordinary",
   "metadata": {
    "execution": {
     "iopub.execute_input": "2021-04-30T00:26:21.152601Z",
     "iopub.status.busy": "2021-04-30T00:26:21.151584Z",
     "iopub.status.idle": "2021-04-30T00:26:21.162291Z",
     "shell.execute_reply": "2021-04-30T00:26:21.161660Z"
    },
    "papermill": {
     "duration": 0.080496,
     "end_time": "2021-04-30T00:26:21.162449",
     "exception": false,
     "start_time": "2021-04-30T00:26:21.081953",
     "status": "completed"
    },
    "tags": []
   },
   "outputs": [
    {
     "data": {
      "text/html": [
       "<div>\n",
       "<style scoped>\n",
       "    .dataframe tbody tr th:only-of-type {\n",
       "        vertical-align: middle;\n",
       "    }\n",
       "\n",
       "    .dataframe tbody tr th {\n",
       "        vertical-align: top;\n",
       "    }\n",
       "\n",
       "    .dataframe thead th {\n",
       "        text-align: right;\n",
       "    }\n",
       "</style>\n",
       "<table border=\"1\" class=\"dataframe\">\n",
       "  <thead>\n",
       "    <tr style=\"text-align: right;\">\n",
       "      <th></th>\n",
       "      <th>education</th>\n",
       "      <th>Gender</th>\n",
       "    </tr>\n",
       "  </thead>\n",
       "  <tbody>\n",
       "    <tr>\n",
       "      <th>0</th>\n",
       "      <td>1</td>\n",
       "      <td>1</td>\n",
       "    </tr>\n",
       "    <tr>\n",
       "      <th>1</th>\n",
       "      <td>0</td>\n",
       "      <td>0</td>\n",
       "    </tr>\n",
       "    <tr>\n",
       "      <th>2</th>\n",
       "      <td>0</td>\n",
       "      <td>0</td>\n",
       "    </tr>\n",
       "    <tr>\n",
       "      <th>3</th>\n",
       "      <td>3</td>\n",
       "      <td>1</td>\n",
       "    </tr>\n",
       "    <tr>\n",
       "      <th>4</th>\n",
       "      <td>3</td>\n",
       "      <td>0</td>\n",
       "    </tr>\n",
       "  </tbody>\n",
       "</table>\n",
       "</div>"
      ],
      "text/plain": [
       "   education  Gender\n",
       "0          1       1\n",
       "1          0       0\n",
       "2          0       0\n",
       "3          3       1\n",
       "4          3       0"
      ]
     },
     "execution_count": 37,
     "metadata": {},
     "output_type": "execute_result"
    }
   ],
   "source": [
    "categorical.head()"
   ]
  },
  {
   "cell_type": "code",
   "execution_count": 38,
   "id": "metropolitan-impossible",
   "metadata": {
    "execution": {
     "iopub.execute_input": "2021-04-30T00:26:21.301318Z",
     "iopub.status.busy": "2021-04-30T00:26:21.300704Z",
     "iopub.status.idle": "2021-04-30T00:26:21.302816Z",
     "shell.execute_reply": "2021-04-30T00:26:21.303251Z"
    },
    "papermill": {
     "duration": 0.074929,
     "end_time": "2021-04-30T00:26:21.303440",
     "exception": false,
     "start_time": "2021-04-30T00:26:21.228511",
     "status": "completed"
    },
    "tags": []
   },
   "outputs": [],
   "source": [
    "df = pd.concat([categorical, numerical, target], axis=1)"
   ]
  },
  {
   "cell_type": "code",
   "execution_count": 39,
   "id": "stock-console",
   "metadata": {
    "execution": {
     "iopub.execute_input": "2021-04-30T00:26:21.439077Z",
     "iopub.status.busy": "2021-04-30T00:26:21.438344Z",
     "iopub.status.idle": "2021-04-30T00:26:21.453273Z",
     "shell.execute_reply": "2021-04-30T00:26:21.453753Z"
    },
    "papermill": {
     "duration": 0.084642,
     "end_time": "2021-04-30T00:26:21.453934",
     "exception": false,
     "start_time": "2021-04-30T00:26:21.369292",
     "status": "completed"
    },
    "tags": []
   },
   "outputs": [
    {
     "data": {
      "text/html": [
       "<div>\n",
       "<style scoped>\n",
       "    .dataframe tbody tr th:only-of-type {\n",
       "        vertical-align: middle;\n",
       "    }\n",
       "\n",
       "    .dataframe tbody tr th {\n",
       "        vertical-align: top;\n",
       "    }\n",
       "\n",
       "    .dataframe thead th {\n",
       "        text-align: right;\n",
       "    }\n",
       "</style>\n",
       "<table border=\"1\" class=\"dataframe\">\n",
       "  <thead>\n",
       "    <tr style=\"text-align: right;\">\n",
       "      <th></th>\n",
       "      <th>education</th>\n",
       "      <th>Gender</th>\n",
       "      <th>Principal</th>\n",
       "      <th>terms</th>\n",
       "      <th>past_due_days</th>\n",
       "      <th>age</th>\n",
       "      <th>loan_status</th>\n",
       "    </tr>\n",
       "  </thead>\n",
       "  <tbody>\n",
       "    <tr>\n",
       "      <th>0</th>\n",
       "      <td>1</td>\n",
       "      <td>1</td>\n",
       "      <td>1000.0</td>\n",
       "      <td>30.0</td>\n",
       "      <td>0.0</td>\n",
       "      <td>45.0</td>\n",
       "      <td>0</td>\n",
       "    </tr>\n",
       "    <tr>\n",
       "      <th>1</th>\n",
       "      <td>0</td>\n",
       "      <td>0</td>\n",
       "      <td>1000.0</td>\n",
       "      <td>30.0</td>\n",
       "      <td>0.0</td>\n",
       "      <td>50.0</td>\n",
       "      <td>0</td>\n",
       "    </tr>\n",
       "    <tr>\n",
       "      <th>2</th>\n",
       "      <td>0</td>\n",
       "      <td>0</td>\n",
       "      <td>1000.0</td>\n",
       "      <td>30.0</td>\n",
       "      <td>0.0</td>\n",
       "      <td>33.0</td>\n",
       "      <td>0</td>\n",
       "    </tr>\n",
       "    <tr>\n",
       "      <th>3</th>\n",
       "      <td>3</td>\n",
       "      <td>1</td>\n",
       "      <td>1000.0</td>\n",
       "      <td>15.0</td>\n",
       "      <td>0.0</td>\n",
       "      <td>27.0</td>\n",
       "      <td>0</td>\n",
       "    </tr>\n",
       "    <tr>\n",
       "      <th>4</th>\n",
       "      <td>3</td>\n",
       "      <td>0</td>\n",
       "      <td>1000.0</td>\n",
       "      <td>30.0</td>\n",
       "      <td>0.0</td>\n",
       "      <td>28.0</td>\n",
       "      <td>0</td>\n",
       "    </tr>\n",
       "  </tbody>\n",
       "</table>\n",
       "</div>"
      ],
      "text/plain": [
       "   education  Gender  Principal  terms  past_due_days   age  loan_status\n",
       "0          1       1     1000.0   30.0            0.0  45.0            0\n",
       "1          0       0     1000.0   30.0            0.0  50.0            0\n",
       "2          0       0     1000.0   30.0            0.0  33.0            0\n",
       "3          3       1     1000.0   15.0            0.0  27.0            0\n",
       "4          3       0     1000.0   30.0            0.0  28.0            0"
      ]
     },
     "execution_count": 39,
     "metadata": {},
     "output_type": "execute_result"
    }
   ],
   "source": [
    "df.head()"
   ]
  },
  {
   "cell_type": "code",
   "execution_count": 40,
   "id": "commercial-medline",
   "metadata": {
    "execution": {
     "iopub.execute_input": "2021-04-30T00:26:21.590889Z",
     "iopub.status.busy": "2021-04-30T00:26:21.590220Z",
     "iopub.status.idle": "2021-04-30T00:26:21.596411Z",
     "shell.execute_reply": "2021-04-30T00:26:21.595879Z"
    },
    "papermill": {
     "duration": 0.075836,
     "end_time": "2021-04-30T00:26:21.596568",
     "exception": false,
     "start_time": "2021-04-30T00:26:21.520732",
     "status": "completed"
    },
    "tags": []
   },
   "outputs": [
    {
     "data": {
      "text/plain": [
       "(500, 7)"
      ]
     },
     "execution_count": 40,
     "metadata": {},
     "output_type": "execute_result"
    }
   ],
   "source": [
    "df.shape"
   ]
  },
  {
   "cell_type": "code",
   "execution_count": 41,
   "id": "honey-instrumentation",
   "metadata": {
    "execution": {
     "iopub.execute_input": "2021-04-30T00:26:21.733940Z",
     "iopub.status.busy": "2021-04-30T00:26:21.733306Z",
     "iopub.status.idle": "2021-04-30T00:26:21.738428Z",
     "shell.execute_reply": "2021-04-30T00:26:21.738918Z"
    },
    "papermill": {
     "duration": 0.075533,
     "end_time": "2021-04-30T00:26:21.739088",
     "exception": false,
     "start_time": "2021-04-30T00:26:21.663555",
     "status": "completed"
    },
    "tags": []
   },
   "outputs": [],
   "source": [
    "X = pd.concat([categorical, numerical], axis=1)\n",
    "y = target "
   ]
  },
  {
   "cell_type": "code",
   "execution_count": 42,
   "id": "unique-cambodia",
   "metadata": {
    "execution": {
     "iopub.execute_input": "2021-04-30T00:26:21.876701Z",
     "iopub.status.busy": "2021-04-30T00:26:21.876002Z",
     "iopub.status.idle": "2021-04-30T00:26:21.882578Z",
     "shell.execute_reply": "2021-04-30T00:26:21.882045Z"
    },
    "papermill": {
     "duration": 0.076389,
     "end_time": "2021-04-30T00:26:21.882738",
     "exception": false,
     "start_time": "2021-04-30T00:26:21.806349",
     "status": "completed"
    },
    "tags": []
   },
   "outputs": [
    {
     "data": {
      "text/plain": [
       "(500, 6)"
      ]
     },
     "execution_count": 42,
     "metadata": {},
     "output_type": "execute_result"
    }
   ],
   "source": [
    "X.shape"
   ]
  },
  {
   "cell_type": "code",
   "execution_count": 43,
   "id": "proper-breach",
   "metadata": {
    "execution": {
     "iopub.execute_input": "2021-04-30T00:26:22.026816Z",
     "iopub.status.busy": "2021-04-30T00:26:22.026133Z",
     "iopub.status.idle": "2021-04-30T00:26:22.029217Z",
     "shell.execute_reply": "2021-04-30T00:26:22.029813Z"
    },
    "papermill": {
     "duration": 0.077921,
     "end_time": "2021-04-30T00:26:22.029986",
     "exception": false,
     "start_time": "2021-04-30T00:26:21.952065",
     "status": "completed"
    },
    "tags": []
   },
   "outputs": [
    {
     "data": {
      "text/plain": [
       "(500,)"
      ]
     },
     "execution_count": 43,
     "metadata": {},
     "output_type": "execute_result"
    }
   ],
   "source": [
    "y.shape"
   ]
  },
  {
   "cell_type": "code",
   "execution_count": 44,
   "id": "unnecessary-occasions",
   "metadata": {
    "execution": {
     "iopub.execute_input": "2021-04-30T00:26:22.173299Z",
     "iopub.status.busy": "2021-04-30T00:26:22.172332Z",
     "iopub.status.idle": "2021-04-30T00:26:22.644946Z",
     "shell.execute_reply": "2021-04-30T00:26:22.644327Z"
    },
    "papermill": {
     "duration": 0.546892,
     "end_time": "2021-04-30T00:26:22.645082",
     "exception": false,
     "start_time": "2021-04-30T00:26:22.098190",
     "status": "completed"
    },
    "tags": []
   },
   "outputs": [
    {
     "data": {
      "image/png": "[encoded data removed]",
      "text/plain": [
       "<Figure size 720x720 with 2 Axes>"
      ]
     },
     "metadata": {
      "needs_background": "light"
     },
     "output_type": "display_data"
    }
   ],
   "source": [
    "corr=df.corr()\n",
    "top_corr_features=corr.index\n",
    "plt.figure(figsize=(10,10))\n",
    "\n",
    "g=sns.heatmap(df[top_corr_features].corr(),annot=True,cmap=\"RdYlGn\")"
   ]
  },
  {
   "cell_type": "code",
   "execution_count": 45,
   "id": "otherwise-horror",
   "metadata": {
    "execution": {
     "iopub.execute_input": "2021-04-30T00:26:22.792174Z",
     "iopub.status.busy": "2021-04-30T00:26:22.791418Z",
     "iopub.status.idle": "2021-04-30T00:26:22.796149Z",
     "shell.execute_reply": "2021-04-30T00:26:22.795626Z"
    },
    "papermill": {
     "duration": 0.081143,
     "end_time": "2021-04-30T00:26:22.796308",
     "exception": false,
     "start_time": "2021-04-30T00:26:22.715165",
     "status": "completed"
    },
    "tags": []
   },
   "outputs": [
    {
     "data": {
      "text/plain": [
       "(500, 6)"
      ]
     },
     "execution_count": 45,
     "metadata": {},
     "output_type": "execute_result"
    }
   ],
   "source": [
    "X.shape"
   ]
  },
  {
   "cell_type": "code",
   "execution_count": 46,
   "id": "remarkable-search",
   "metadata": {
    "execution": {
     "iopub.execute_input": "2021-04-30T00:26:22.944080Z",
     "iopub.status.busy": "2021-04-30T00:26:22.943376Z",
     "iopub.status.idle": "2021-04-30T00:26:22.947531Z",
     "shell.execute_reply": "2021-04-30T00:26:22.948101Z"
    },
    "papermill": {
     "duration": 0.079413,
     "end_time": "2021-04-30T00:26:22.948277",
     "exception": false,
     "start_time": "2021-04-30T00:26:22.868864",
     "status": "completed"
    },
    "tags": []
   },
   "outputs": [
    {
     "data": {
      "text/plain": [
       "(500,)"
      ]
     },
     "execution_count": 46,
     "metadata": {},
     "output_type": "execute_result"
    }
   ],
   "source": [
    "y.shape"
   ]
  },
  {
   "cell_type": "code",
   "execution_count": 47,
   "id": "funky-forge",
   "metadata": {
    "execution": {
     "iopub.execute_input": "2021-04-30T00:26:23.097661Z",
     "iopub.status.busy": "2021-04-30T00:26:23.096956Z",
     "iopub.status.idle": "2021-04-30T00:26:23.101342Z",
     "shell.execute_reply": "2021-04-30T00:26:23.100832Z"
    },
    "papermill": {
     "duration": 0.080848,
     "end_time": "2021-04-30T00:26:23.101500",
     "exception": false,
     "start_time": "2021-04-30T00:26:23.020652",
     "status": "completed"
    },
    "tags": []
   },
   "outputs": [
    {
     "data": {
      "text/plain": [
       "(500, 7)"
      ]
     },
     "execution_count": 47,
     "metadata": {},
     "output_type": "execute_result"
    }
   ],
   "source": [
    "df.shape"
   ]
  },
  {
   "cell_type": "code",
   "execution_count": 48,
   "id": "distinguished-alliance",
   "metadata": {
    "execution": {
     "iopub.execute_input": "2021-04-30T00:26:23.249545Z",
     "iopub.status.busy": "2021-04-30T00:26:23.248812Z",
     "iopub.status.idle": "2021-04-30T00:26:23.251126Z",
     "shell.execute_reply": "2021-04-30T00:26:23.251717Z"
    },
    "papermill": {
     "duration": 0.079234,
     "end_time": "2021-04-30T00:26:23.251888",
     "exception": false,
     "start_time": "2021-04-30T00:26:23.172654",
     "status": "completed"
    },
    "tags": []
   },
   "outputs": [],
   "source": [
    "y=y.values.reshape(500,1)"
   ]
  },
  {
   "cell_type": "code",
   "execution_count": 49,
   "id": "collected-greece",
   "metadata": {
    "execution": {
     "iopub.execute_input": "2021-04-30T00:26:23.399009Z",
     "iopub.status.busy": "2021-04-30T00:26:23.398335Z",
     "iopub.status.idle": "2021-04-30T00:26:23.404285Z",
     "shell.execute_reply": "2021-04-30T00:26:23.403754Z"
    },
    "papermill": {
     "duration": 0.07983,
     "end_time": "2021-04-30T00:26:23.404440",
     "exception": false,
     "start_time": "2021-04-30T00:26:23.324610",
     "status": "completed"
    },
    "tags": []
   },
   "outputs": [
    {
     "data": {
      "text/plain": [
       "(500, 1)"
      ]
     },
     "execution_count": 49,
     "metadata": {},
     "output_type": "execute_result"
    }
   ],
   "source": [
    "y.shape"
   ]
  },
  {
   "cell_type": "markdown",
   "id": "indoor-workplace",
   "metadata": {
    "papermill": {
     "duration": 0.071751,
     "end_time": "2021-04-30T00:26:23.548168",
     "exception": false,
     "start_time": "2021-04-30T00:26:23.476417",
     "status": "completed"
    },
    "tags": []
   },
   "source": [
    "# Modelling"
   ]
  },
  {
   "cell_type": "markdown",
   "id": "closing-appeal",
   "metadata": {
    "papermill": {
     "duration": 0.071225,
     "end_time": "2021-04-30T00:26:23.691545",
     "exception": false,
     "start_time": "2021-04-30T00:26:23.620320",
     "status": "completed"
    },
    "tags": []
   },
   "source": [
    "## K-Nearest Neighbour"
   ]
  },
  {
   "cell_type": "code",
   "execution_count": 50,
   "id": "known-coaching",
   "metadata": {
    "execution": {
     "iopub.execute_input": "2021-04-30T00:26:23.841189Z",
     "iopub.status.busy": "2021-04-30T00:26:23.840491Z",
     "iopub.status.idle": "2021-04-30T00:26:23.930189Z",
     "shell.execute_reply": "2021-04-30T00:26:23.929623Z"
    },
    "papermill": {
     "duration": 0.167599,
     "end_time": "2021-04-30T00:26:23.930333",
     "exception": false,
     "start_time": "2021-04-30T00:26:23.762734",
     "status": "completed"
    },
    "tags": []
   },
   "outputs": [],
   "source": [
    "from sklearn.model_selection import train_test_split\n",
    "X_train, X_test, y_train, y_test = train_test_split(X, y, test_size = 0.3, random_state = 42)"
   ]
  },
  {
   "cell_type": "code",
   "execution_count": 51,
   "id": "executive-february",
   "metadata": {
    "execution": {
     "iopub.execute_input": "2021-04-30T00:26:24.092772Z",
     "iopub.status.busy": "2021-04-30T00:26:24.092042Z",
     "iopub.status.idle": "2021-04-30T00:26:24.581430Z",
     "shell.execute_reply": "2021-04-30T00:26:24.581948Z"
    },
    "papermill": {
     "duration": 0.569758,
     "end_time": "2021-04-30T00:26:24.582122",
     "exception": false,
     "start_time": "2021-04-30T00:26:24.012364",
     "status": "completed"
    },
    "tags": []
   },
   "outputs": [
    {
     "name": "stderr",
     "output_type": "stream",
     "text": [
      "/opt/conda/lib/python3.7/site-packages/sklearn/neighbors/_classification.py:179: DataConversionWarning: A column-vector y was passed when a 1d array was expected. Please change the shape of y to (n_samples,), for example using ravel().\n",
      "  return self._fit(X, y)\n",
      "/opt/conda/lib/python3.7/site-packages/sklearn/neighbors/_classification.py:179: DataConversionWarning: A column-vector y was passed when a 1d array was expected. Please change the shape of y to (n_samples,), for example using ravel().\n",
      "  return self._fit(X, y)\n",
      "/opt/conda/lib/python3.7/site-packages/sklearn/neighbors/_classification.py:179: DataConversionWarning: A column-vector y was passed when a 1d array was expected. Please change the shape of y to (n_samples,), for example using ravel().\n",
      "  return self._fit(X, y)\n",
      "/opt/conda/lib/python3.7/site-packages/sklearn/neighbors/_classification.py:179: DataConversionWarning: A column-vector y was passed when a 1d array was expected. Please change the shape of y to (n_samples,), for example using ravel().\n",
      "  return self._fit(X, y)\n",
      "/opt/conda/lib/python3.7/site-packages/sklearn/neighbors/_classification.py:179: DataConversionWarning: A column-vector y was passed when a 1d array was expected. Please change the shape of y to (n_samples,), for example using ravel().\n",
      "  return self._fit(X, y)\n",
      "/opt/conda/lib/python3.7/site-packages/sklearn/neighbors/_classification.py:179: DataConversionWarning: A column-vector y was passed when a 1d array was expected. Please change the shape of y to (n_samples,), for example using ravel().\n",
      "  return self._fit(X, y)\n",
      "/opt/conda/lib/python3.7/site-packages/sklearn/neighbors/_classification.py:179: DataConversionWarning: A column-vector y was passed when a 1d array was expected. Please change the shape of y to (n_samples,), for example using ravel().\n",
      "  return self._fit(X, y)\n",
      "/opt/conda/lib/python3.7/site-packages/sklearn/neighbors/_classification.py:179: DataConversionWarning: A column-vector y was passed when a 1d array was expected. Please change the shape of y to (n_samples,), for example using ravel().\n",
      "  return self._fit(X, y)\n",
      "/opt/conda/lib/python3.7/site-packages/sklearn/neighbors/_classification.py:179: DataConversionWarning: A column-vector y was passed when a 1d array was expected. Please change the shape of y to (n_samples,), for example using ravel().\n",
      "  return self._fit(X, y)\n",
      "/opt/conda/lib/python3.7/site-packages/sklearn/neighbors/_classification.py:179: DataConversionWarning: A column-vector y was passed when a 1d array was expected. Please change the shape of y to (n_samples,), for example using ravel().\n",
      "  return self._fit(X, y)\n",
      "/opt/conda/lib/python3.7/site-packages/sklearn/neighbors/_classification.py:179: DataConversionWarning: A column-vector y was passed when a 1d array was expected. Please change the shape of y to (n_samples,), for example using ravel().\n",
      "  return self._fit(X, y)\n",
      "/opt/conda/lib/python3.7/site-packages/sklearn/neighbors/_classification.py:179: DataConversionWarning: A column-vector y was passed when a 1d array was expected. Please change the shape of y to (n_samples,), for example using ravel().\n",
      "  return self._fit(X, y)\n",
      "/opt/conda/lib/python3.7/site-packages/sklearn/neighbors/_classification.py:179: DataConversionWarning: A column-vector y was passed when a 1d array was expected. Please change the shape of y to (n_samples,), for example using ravel().\n",
      "  return self._fit(X, y)\n"
     ]
    },
    {
     "data": {
      "image/png": "[encoded data removed]",
      "text/plain": [
       "<Figure size 432x288 with 1 Axes>"
      ]
     },
     "metadata": {
      "needs_background": "light"
     },
     "output_type": "display_data"
    }
   ],
   "source": [
    "#find best k value for knn algorithm\n",
    "from sklearn.neighbors import KNeighborsClassifier\n",
    "\n",
    "score_list=[]\n",
    "for i in range(2,15):\n",
    "    knn=KNeighborsClassifier(n_neighbors=i)\n",
    "    knn.fit(X_train,y_train)\n",
    "    score_list.append(knn.score(X_test,y_test))\n",
    "    \n",
    "plt.plot(range(2,15),score_list)\n",
    "plt.xlabel(\"K values\")\n",
    "plt.ylabel(\"Accuracy\")\n",
    "plt.show()\n"
   ]
  },
  {
   "cell_type": "markdown",
   "id": "lesser-player",
   "metadata": {
    "papermill": {
     "duration": 0.072994,
     "end_time": "2021-04-30T00:26:24.728810",
     "exception": false,
     "start_time": "2021-04-30T00:26:24.655816",
     "status": "completed"
    },
    "tags": []
   },
   "source": [
    "* k=3 has best accuracy"
   ]
  },
  {
   "cell_type": "code",
   "execution_count": 52,
   "id": "concerned-leonard",
   "metadata": {
    "execution": {
     "iopub.execute_input": "2021-04-30T00:26:24.887913Z",
     "iopub.status.busy": "2021-04-30T00:26:24.887210Z",
     "iopub.status.idle": "2021-04-30T00:26:24.901151Z",
     "shell.execute_reply": "2021-04-30T00:26:24.901676Z"
    },
    "papermill": {
     "duration": 0.099557,
     "end_time": "2021-04-30T00:26:24.901849",
     "exception": false,
     "start_time": "2021-04-30T00:26:24.802292",
     "status": "completed"
    },
    "tags": []
   },
   "outputs": [
    {
     "name": "stdout",
     "output_type": "stream",
     "text": [
      "Jaccard Index:0.7658239538239539\n",
      "f1 Score:0.8505485349640518\n"
     ]
    },
    {
     "name": "stderr",
     "output_type": "stream",
     "text": [
      "/opt/conda/lib/python3.7/site-packages/sklearn/neighbors/_classification.py:179: DataConversionWarning: A column-vector y was passed when a 1d array was expected. Please change the shape of y to (n_samples,), for example using ravel().\n",
      "  return self._fit(X, y)\n"
     ]
    }
   ],
   "source": [
    "knn2=KNeighborsClassifier()\n",
    "knn2.fit(X_train,y_train)\n",
    "prediction=knn2.predict(X_test)\n",
    "#Jaccard Index\n",
    "from sklearn.metrics import jaccard_score\n",
    "from sklearn.metrics import f1_score\n",
    "from sklearn.metrics import log_loss \n",
    "js=jaccard_score(y_test,prediction,average='weighted')\n",
    "print(\"Jaccard Index:{}\".format(js))\n",
    "f1=f1_score(y_test,prediction,average='weighted')\n",
    "print(\"f1 Score:{}\".format(f1))\n",
    "#LogLoss for KNN=Nan\n",
    "\n"
   ]
  },
  {
   "cell_type": "code",
   "execution_count": 53,
   "id": "earlier-football",
   "metadata": {
    "execution": {
     "iopub.execute_input": "2021-04-30T00:26:25.057976Z",
     "iopub.status.busy": "2021-04-30T00:26:25.057097Z",
     "iopub.status.idle": "2021-04-30T00:26:25.117645Z",
     "shell.execute_reply": "2021-04-30T00:26:25.116777Z"
    },
    "papermill": {
     "duration": 0.141876,
     "end_time": "2021-04-30T00:26:25.117852",
     "exception": false,
     "start_time": "2021-04-30T00:26:24.975976",
     "status": "completed"
    },
    "tags": []
   },
   "outputs": [
    {
     "name": "stdout",
     "output_type": "stream",
     "text": [
      "Jaccard Index:0.9497142857142857\n",
      "f1 Score:0.973221873911529\n"
     ]
    }
   ],
   "source": [
    "#DecisionTree\n",
    "from sklearn.tree import DecisionTreeClassifier\n",
    "dt=DecisionTreeClassifier(max_depth=2)\n",
    "dt.fit(X_train,y_train)\n",
    "prediction2=dt.predict(X_test)\n",
    "js=jaccard_score(y_test,prediction2,average='weighted')\n",
    "print(\"Jaccard Index:{}\".format(js))\n",
    "f1=f1_score(y_test,prediction2,average='weighted')\n",
    "print(\"f1 Score:{}\".format(f1))\n",
    "#LogLoss for DecisionTree=Nan"
   ]
  },
  {
   "cell_type": "code",
   "execution_count": 54,
   "id": "surprising-swiss",
   "metadata": {
    "execution": {
     "iopub.execute_input": "2021-04-30T00:26:25.275277Z",
     "iopub.status.busy": "2021-04-30T00:26:25.274194Z",
     "iopub.status.idle": "2021-04-30T00:26:25.278578Z",
     "shell.execute_reply": "2021-04-30T00:26:25.277952Z"
    },
    "papermill": {
     "duration": 0.08513,
     "end_time": "2021-04-30T00:26:25.278729",
     "exception": false,
     "start_time": "2021-04-30T00:26:25.193599",
     "status": "completed"
    },
    "tags": []
   },
   "outputs": [
    {
     "data": {
      "text/plain": [
       "'digraph Tree {\\nnode [shape=box] ;\\n0 [label=\"X[4] <= 0.5\\\\ngini = 0.555\\\\nsamples = 350\\\\nvalue = [212, 69, 69]\"] ;\\n1 [label=\"gini = 0.0\\\\nsamples = 212\\\\nvalue = [212, 0, 0]\"] ;\\n0 -> 1 [labeldistance=2.5, labelangle=45, headlabel=\"True\"] ;\\n2 [label=\"X[4] <= 27.5\\\\ngini = 0.5\\\\nsamples = 138\\\\nvalue = [0, 69, 69]\"] ;\\n0 -> 2 [labeldistance=2.5, labelangle=-45, headlabel=\"False\"] ;\\n3 [label=\"gini = 0.0\\\\nsamples = 63\\\\nvalue = [0, 0, 63]\"] ;\\n2 -> 3 ;\\n4 [label=\"gini = 0.147\\\\nsamples = 75\\\\nvalue = [0, 69, 6]\"] ;\\n2 -> 4 ;\\n}'"
      ]
     },
     "execution_count": 54,
     "metadata": {},
     "output_type": "execute_result"
    }
   ],
   "source": [
    "#Visualizing DecisionTree\n",
    "from sklearn import tree\n",
    "tree.export_graphviz(dt)"
   ]
  },
  {
   "cell_type": "code",
   "execution_count": 55,
   "id": "synthetic-secretary",
   "metadata": {
    "execution": {
     "iopub.execute_input": "2021-04-30T00:26:25.438870Z",
     "iopub.status.busy": "2021-04-30T00:26:25.437370Z",
     "iopub.status.idle": "2021-04-30T00:26:25.443524Z",
     "shell.execute_reply": "2021-04-30T00:26:25.442944Z"
    },
    "papermill": {
     "duration": 0.087928,
     "end_time": "2021-04-30T00:26:25.443687",
     "exception": false,
     "start_time": "2021-04-30T00:26:25.355759",
     "status": "completed"
    },
    "tags": []
   },
   "outputs": [
    {
     "data": {
      "text/plain": [
       "array([[1.  , 0.  , 0.  ],\n",
       "       [1.  , 0.  , 0.  ],\n",
       "       [1.  , 0.  , 0.  ],\n",
       "       ...,\n",
       "       [0.  , 0.92, 0.08],\n",
       "       [0.  , 0.  , 1.  ],\n",
       "       [1.  , 0.  , 0.  ]])"
      ]
     },
     "execution_count": 55,
     "metadata": {},
     "output_type": "execute_result"
    }
   ],
   "source": [
    "dt.predict_proba(X_train)"
   ]
  },
  {
   "cell_type": "code",
   "execution_count": 56,
   "id": "domestic-consistency",
   "metadata": {
    "execution": {
     "iopub.execute_input": "2021-04-30T00:26:25.611570Z",
     "iopub.status.busy": "2021-04-30T00:26:25.610913Z",
     "iopub.status.idle": "2021-04-30T00:26:25.627528Z",
     "shell.execute_reply": "2021-04-30T00:26:25.628028Z"
    },
    "papermill": {
     "duration": 0.106942,
     "end_time": "2021-04-30T00:26:25.628194",
     "exception": false,
     "start_time": "2021-04-30T00:26:25.521252",
     "status": "completed"
    },
    "tags": []
   },
   "outputs": [
    {
     "name": "stdout",
     "output_type": "stream",
     "text": [
      "Jaccard Index:0.6353949753949754\n",
      "f1 Score:0.7038831300813008\n"
     ]
    },
    {
     "name": "stderr",
     "output_type": "stream",
     "text": [
      "/opt/conda/lib/python3.7/site-packages/sklearn/utils/validation.py:63: DataConversionWarning: A column-vector y was passed when a 1d array was expected. Please change the shape of y to (n_samples, ), for example using ravel().\n",
      "  return f(*args, **kwargs)\n"
     ]
    }
   ],
   "source": [
    "#SVM\n",
    "from sklearn.svm import SVC\n",
    "from sklearn.preprocessing import StandardScaler\n",
    "from sklearn import svm\n",
    "\n",
    "x_sc=StandardScaler()\n",
    "X_train_t=x_sc.fit_transform(X_train)\n",
    "X_test=x_sc.transform(X_test)\n",
    "\n",
    "svm1=svm.SVC(kernel='linear',C=0.01)\n",
    "svm1.fit(X_test,y_test)\n",
    "\n",
    "SVC(kernel='linear',C=0.01)\n",
    "\n",
    "y_train_pre=svm1.predict(X_train)\n",
    "y_test_pre=svm1.predict(X_test)\n",
    "y_test_pre\n",
    "#gridsearch,c=0.1 de dene\n",
    "\n",
    "js=jaccard_score(y_test,y_test_pre,average='weighted')\n",
    "print(\"Jaccard Index:{}\".format(js))\n",
    "f1=f1_score(y_test,y_test_pre,average='weighted')\n",
    "print(\"f1 Score:{}\".format(f1))\n",
    "#LogLoss for SVM=Nan"
   ]
  },
  {
   "cell_type": "code",
   "execution_count": 57,
   "id": "speaking-rogers",
   "metadata": {
    "execution": {
     "iopub.execute_input": "2021-04-30T00:26:25.790313Z",
     "iopub.status.busy": "2021-04-30T00:26:25.789300Z",
     "iopub.status.idle": "2021-04-30T00:26:25.850657Z",
     "shell.execute_reply": "2021-04-30T00:26:25.850078Z"
    },
    "papermill": {
     "duration": 0.146437,
     "end_time": "2021-04-30T00:26:25.850804",
     "exception": false,
     "start_time": "2021-04-30T00:26:25.704367",
     "status": "completed"
    },
    "tags": []
   },
   "outputs": [
    {
     "name": "stderr",
     "output_type": "stream",
     "text": [
      "/opt/conda/lib/python3.7/site-packages/sklearn/utils/validation.py:63: DataConversionWarning: A column-vector y was passed when a 1d array was expected. Please change the shape of y to (n_samples, ), for example using ravel().\n",
      "  return f(*args, **kwargs)\n"
     ]
    },
    {
     "name": "stdout",
     "output_type": "stream",
     "text": [
      "Jaccard Index:0.6201656314699794\n",
      "f1 Score:0.6959287766830871\n",
      "log loss:0.636117132026122\n"
     ]
    },
    {
     "name": "stderr",
     "output_type": "stream",
     "text": [
      "/opt/conda/lib/python3.7/site-packages/sklearn/linear_model/_logistic.py:765: ConvergenceWarning: lbfgs failed to converge (status=1):\n",
      "STOP: TOTAL NO. of ITERATIONS REACHED LIMIT.\n",
      "\n",
      "Increase the number of iterations (max_iter) or scale the data as shown in:\n",
      "    https://scikit-learn.org/stable/modules/preprocessing.html\n",
      "Please also refer to the documentation for alternative solver options:\n",
      "    https://scikit-learn.org/stable/modules/linear_model.html#logistic-regression\n",
      "  extra_warning_msg=_LOGISTIC_SOLVER_CONVERGENCE_MSG)\n"
     ]
    }
   ],
   "source": [
    "### Logistic Regression\n",
    "from sklearn.linear_model import LogisticRegression\n",
    "\n",
    "\n",
    "lg=LogisticRegression()\n",
    "lg.fit(X_train,y_train)\n",
    "lg_pre_proba=lg.predict_proba(X_test)\n",
    "lg_pre=lg.predict(X_test)\n",
    "\n",
    "\n",
    "js=jaccard_score(y_test,lg_pre,average='weighted')\n",
    "print(\"Jaccard Index:{}\".format(js))\n",
    "f1=f1_score(y_test,lg_pre,average='weighted')\n",
    "print(\"f1 Score:{}\".format(f1))\n",
    "lgloss=log_loss(y_test,lg_pre_proba,normalize = True)\n",
    "print(\"log loss:{}\".format(lgloss))"
   ]
  },
  {
   "cell_type": "markdown",
   "id": "clean-links",
   "metadata": {
    "papermill": {
     "duration": 0.077293,
     "end_time": "2021-04-30T00:26:26.005632",
     "exception": false,
     "start_time": "2021-04-30T00:26:25.928339",
     "status": "completed"
    },
    "tags": []
   },
   "source": [
    "### Accuracy for all\n"
   ]
  }
 ],
 "metadata": {
  "kernelspec": {
   "display_name": "Python 3",
   "language": "python",
   "name": "python3"
  },
  "language_info": {
   "codemirror_mode": {
    "name": "ipython",
    "version": 3
   },
   "file_extension": ".py",
   "mimetype": "text/x-python",
   "name": "python",
   "nbconvert_exporter": "python",
   "pygments_lexer": "ipython3",
   "version": "3.7.9"
  },
  "papermill": {
   "default_parameters": {},
   "duration": 23.834729,
   "end_time": "2021-04-30T00:26:26.794606",
   "environment_variables": {},
   "exception": null,
   "input_path": "__notebook__.ipynb",
   "output_path": "__notebook__.ipynb",
   "parameters": {},
   "start_time": "2021-04-30T00:26:02.959877",
   "version": "2.3.2"
  }
 },
 "nbformat": 4,
 "nbformat_minor": 5
}
